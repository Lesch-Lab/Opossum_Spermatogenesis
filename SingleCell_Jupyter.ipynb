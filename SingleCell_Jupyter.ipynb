{
 "cells": [
  {
   "cell_type": "markdown",
   "id": "8a322b0e",
   "metadata": {},
   "source": [
    "## Monodelphis Domestica Single Cell RNA Seq\n",
    "This notebook contains code to process the raw cellranger output from 10X Chromium single-cell RNA sequencing of adult opossum whole testis.\n",
    "\n",
    "**by Daniel Stadtmauer and Kira Marshall**\n",
    "\n",
    "Biological samples:\n",
    "\n",
    "- Three adult replicates"
   ]
  },
  {
   "cell_type": "markdown",
   "id": "5963c574",
   "metadata": {},
   "source": [
    "## Software Import\n",
    "\n",
    "These commands load the required packages into Python."
   ]
  },
  {
   "cell_type": "code",
   "execution_count": null,
   "id": "44a263f4",
   "metadata": {},
   "outputs": [],
   "source": [
    "import scanpy as sc"
   ]
  },
  {
   "cell_type": "code",
   "execution_count": null,
   "id": "85c8878f",
   "metadata": {},
   "outputs": [],
   "source": [
    "import scprep\n",
    "#import velocyto\n",
    "import sccoda\n",
    "import math\n",
    "import numpy as np\n",
    "import pandas as pd\n",
    "import matplotlib.pyplot as plt\n",
    "import phate\n",
    "import magic\n",
    "import os, tarfile\n",
    "import anndata\n",
    "#import scanpy as sc\n",
    "import umap\n",
    "import gseapy\n",
    "import seaborn as sns\n",
    "# matplotlib settings for Jupyter notebooks only\n",
    "%matplotlib inline\n",
    "\n",
    "import scvelo as scv\n",
    "import anndata2ri\n",
    "import graphtools as gt\n",
    "import gc\n",
    "\n",
    "import harmonypy"
   ]
  },
  {
   "cell_type": "markdown",
   "id": "f079cdda",
   "metadata": {},
   "source": [
    "The custom functions for this project, mainly cell-cell interaction modeling but also gene lookup, are for the time being stored in an experimental package [`chinpy`](https://gitlab.com/dnjst/chinpy)."
   ]
  },
  {
   "cell_type": "code",
   "execution_count": null,
   "id": "f9dddeef",
   "metadata": {},
   "outputs": [],
   "source": [
    "import chinpy"
   ]
  },
  {
   "cell_type": "code",
   "execution_count": null,
   "id": "b90c3c88",
   "metadata": {},
   "outputs": [],
   "source": [
    "%matplotlib inline"
   ]
  },
  {
   "cell_type": "markdown",
   "id": "db5d6016",
   "metadata": {},
   "source": [
    "Next we set the scanpy figure parameters for how the plotting output will appear.\n",
    "two options below"
   ]
  },
  {
   "cell_type": "code",
   "execution_count": null,
   "id": "976b5068",
   "metadata": {},
   "outputs": [],
   "source": [
    "sc.set_figure_params(scanpy=True, dpi=300, dpi_save=300, frameon=True, vector_friendly=True, fontsize=14, figsize=None, color_map=None, format='svg', facecolor=None, transparent=True, ipython_format='png2x')"
   ]
  },
  {
   "cell_type": "code",
   "execution_count": null,
   "id": "6a50719e",
   "metadata": {},
   "outputs": [],
   "source": [
    "sc.settings.set_figure_params(dpi=80, dpi_save=2000, facecolor=None, transparent=True, format=\"png\")"
   ]
  },
  {
   "cell_type": "markdown",
   "id": "84ee3fa3",
   "metadata": {},
   "source": [
    "## Data Processing from 10X- AnnData\n",
    "Read in the count matrix into an AnnData object, which holds many slots for annotations and different representations of the data. It also comes with its own HDF5-based file format: .h5ad.\n",
    "\n",
    "this is from the scanpy tutorial page\n",
    "https://scanpy-tutorials.readthedocs.io/en/latest/pbmc3k.html"
   ]
  },
  {
   "cell_type": "code",
   "execution_count": null,
   "id": "7a7dc004",
   "metadata": {},
   "outputs": [],
   "source": [
    "# load adata from files (three replicates post-SoupX)\n",
    "data_batches_filepaths = ['rep1_outs_strainedCounts', 'rep2_outs_strainedCounts', 'rep3_outs_strainedCounts']\n",
    "\n",
    "adata_batches = []\n",
    "\n",
    "for i in data_batches_filepaths:\n",
    "    adata_batches.append(sc.read_10x_mtx(i, var_names='gene_ids')) \n",
    "    \n",
    "data_batches_labels = ['Rep1', 'Rep2', 'Rep3']\n",
    "\n",
    "for i in range(len(adata_batches)):\n",
    "    adata_batches[i].obs['sample_labels'] = data_batches_labels[i]\n",
    "    "
   ]
  },
  {
   "cell_type": "code",
   "execution_count": null,
   "id": "c58a65dd",
   "metadata": {},
   "outputs": [],
   "source": [
    "sc.settings.verbosity = 3             # verbosity: errors (0), warnings (1), info (2), hints (3)\n",
    "sc.logging.print_header()\n",
    "sc.settings.set_figure_params(dpi=80, facecolor='white')"
   ]
  },
  {
   "cell_type": "code",
   "execution_count": null,
   "id": "73b70b20",
   "metadata": {},
   "outputs": [],
   "source": [
    "results_file = 'write/MdScRNA_3reps.h5ad'  # the file that will store the analysis results"
   ]
  },
  {
   "cell_type": "markdown",
   "id": "1e781a0a",
   "metadata": {},
   "source": [
    "## QC Calculations\n",
    "\n",
    "Single-cell tutorials usually use the `MT-` prefix to detect mitochondrial genes, but this doesn't work for opossum because it doesn't have the MT nomenclature.\n",
    "\n"
   ]
  },
  {
   "cell_type": "code",
   "execution_count": null,
   "id": "7d0a09df",
   "metadata": {},
   "outputs": [],
   "source": [
    "newnames_dict = chinpy.pp.remap(dataset='mdomestica_gene_ensembl', longnames=True, only11=False, onlyhs=False, host='http://may2021.archive.ensembl.org', return_dict=True)"
   ]
  },
  {
   "cell_type": "code",
   "execution_count": null,
   "id": "0e26a648",
   "metadata": {},
   "outputs": [],
   "source": [
    "adata_batches[0].var['Gene_ID']=adata_batches[0].var_names\n",
    "adata_batches[1].var['Gene_ID']=adata_batches[1].var_names\n",
    "adata_batches[2].var['Gene_ID']=adata_batches[2].var_names\n",
    "\n",
    "# rename adata vars to scprep style\n",
    "for itemj in range(len(adata_batches)):\n",
    "    newnames, newnicks = [], []\n",
    "    for itemi in adata_batches[itemj].var_names:\n",
    "        newnames.append(newnames_dict[itemi])\n",
    "        newnicks.append(newnames_dict[itemi].split(\" (\")[0])\n",
    "    adata_batches[itemj].var_names = newnames\n",
    "    adata_batches[itemj].var['gene_names'] = newnicks\n",
    "    adata_batches[itemj].var['gene_names_full'] = newnames"
   ]
  },
  {
   "cell_type": "code",
   "execution_count": null,
   "id": "3583aace",
   "metadata": {},
   "outputs": [],
   "source": [
    "# grab mitochdonrial (MT) gene list from biomart based upon being on the opossum \"MT\" chromosome \n",
    "from pybiomart import Server\n",
    "server = Server(host='http://may2021.archive.ensembl.org')\n",
    "dataset = (server.marts['ENSEMBL_MART_ENSEMBL'].datasets['mdomestica_gene_ensembl'])\n",
    "\n",
    "mtgenelist = dataset.query(attributes=['ensembl_gene_id', 'external_gene_name'], filters={'chromosome_name': ['MT']})\n",
    "mtgenelist = mtgenelist['Gene stable ID'].to_list()\n",
    "\n",
    "# more extensive list based upon homology to any gene on the human \"MT\" chromosome \n",
    "\n",
    "mtgenelist2 = server.marts['ENSEMBL_MART_ENSEMBL'].datasets['hsapiens_gene_ensembl'].query(attributes=['ensembl_gene_id', 'mdomestica_homolog_ensembl_gene', 'external_gene_name', 'chromosome_name', 'mdomestica_homolog_orthology_type'])\n",
    "mtgenelist2 = mtgenelist2[mtgenelist2['Chromosome/scaffold name'] == \"MT\"]['Opossum gene stable ID']\n",
    "mtgenelist2 = mtgenelist2[~pd.isnull(mtgenelist2)]\n",
    "mtgenelist = list(mtgenelist2)\n",
    "\n",
    "# get full gene name\n",
    "mtgenelist_named = [newnames_dict[itemi] for itemi in mtgenelist]\n",
    "\n",
    "# subset to just the ones in this data set\n",
    "mtgenelist_named_cut = [x for x in mtgenelist_named if x in adata_batches[0].var_names]\n",
    "\n",
    "# calculate MT and Ribo-related QC\n",
    "\n",
    "for i in range(len(adata_batches)):\n",
    "    #sc.pl.highest_expr_genes(adata, n_top=20, ) # plot top genes\n",
    "    adata_batches[i].var['mt'] = [itemi in mtgenelist_named for itemi in adata_batches[i].var_names] #adata_batches[i].var_names.str.startswith('MT-')  # annotate the group of mitochondrial genes as 'mt'\n",
    "    #adata_batches[i].var['mt'] = adata_batches[i].var_names.str.startswith('MT-')\n",
    "    adata_batches[i].var['ribo'] = adata_batches[i].var_names.str.startswith('RPS' or 'RPL' or 'MRPS' or 'MRPL')  # annotate the group of mitochondrial genes as 'mt' \n",
    "    sc.pp.calculate_qc_metrics(adata_batches[i], qc_vars=('ribo','mt'), percent_top=None, log1p=False, inplace=True)\n",
    "    #sc.pl.violin(adata_batches[i], ['n_genes_by_counts', 'total_counts', 'pct_counts_mt'], jitter=0.4, multi_panel=True, stripplot=False, color=\"red\")\n",
    "    #sc.pl.scatter(adata_batches[i], x='total_counts', y='pct_counts_mt')\n",
    "    #sc.pl.scatter(adata_batches[i], x='total_counts', y='pct_counts_ribo')\n",
    "    #sc.pl.scatter(adata_batches[i], x='total_counts', y='n_genes_by_counts')"
   ]
  },
  {
   "cell_type": "code",
   "execution_count": null,
   "id": "875b7026",
   "metadata": {},
   "outputs": [],
   "source": [
    "len(mtgenelist)"
   ]
  },
  {
   "cell_type": "code",
   "execution_count": null,
   "id": "0619157a",
   "metadata": {},
   "outputs": [],
   "source": [
    "adata_batches[i].var\n",
    "sum(adata_batches[i].var['ribo'])"
   ]
  },
  {
   "cell_type": "code",
   "execution_count": null,
   "id": "0bdb03aa",
   "metadata": {},
   "outputs": [],
   "source": [
    "# plot joint diagrams\n",
    "\n",
    "fig, axes = plt.subplots(1,3, figsize=(5*4,5*3))\n",
    "#for ax, i in zip(axes.flatten(), range(len(adata_batches))):\n",
    "for i, ax in zip(range(len(adata_batches)), axes.flatten()):\n",
    "    sc.pl.scatter(adata_batches[i], x='total_counts', y='pct_counts_mt', show=False, ax=ax)\n",
    "    ax.set_title(data_batches_labels[i] + \")\")\n",
    "    \n",
    "fig.tight_layout()"
   ]
  },
  {
   "cell_type": "markdown",
   "id": "e21ddf59",
   "metadata": {},
   "source": [
    "## Visualizing QC Metrics\n",
    "\n",
    "looking at the QC metrics as plots allows us to see where thresholds should be placed.\n",
    "\n",
    "First, looking at the stats together"
   ]
  },
  {
   "cell_type": "code",
   "execution_count": null,
   "id": "b42c8e2c",
   "metadata": {},
   "outputs": [],
   "source": [
    "fig, axes = plt.subplots(1,3, figsize=(3*4,8))\n",
    "for i, ax in zip(range(len(adata_batches)), axes.flatten()):\n",
    "    sc.pl.violin(adata_batches[i], 'n_genes_by_counts', log=False, jitter=0.4, stripplot=False, show=False, ax=ax, color=\"teal\")\n",
    "    ax.set_title(data_batches_labels[i])\n",
    "    \n",
    "fig.tight_layout()"
   ]
  },
  {
   "cell_type": "code",
   "execution_count": null,
   "id": "e7386f1c",
   "metadata": {},
   "outputs": [],
   "source": [
    "fig, axes = plt.subplots(1,3, figsize=(3*4,8))\n",
    "for i, ax in zip(range(len(adata_batches)), axes.flatten()):\n",
    "    sc.pl.violin(adata_batches[i], 'total_counts', log=True, jitter=0.4, stripplot=False, show=False, ax=ax)\n",
    "    ax.set_title(data_batches_labels[i])\n",
    "    #ax.set_ylim([0, 1e5]) # standardize all limits\n",
    "    \n",
    "fig.tight_layout()"
   ]
  },
  {
   "cell_type": "code",
   "execution_count": null,
   "id": "8267bf8e",
   "metadata": {},
   "outputs": [],
   "source": [
    "# plot joint diagrams\n",
    "\n",
    "fig, axes = plt.subplots(1,3, figsize=(3*4,8))\n",
    "#for ax, i in zip(axes.flatten(), range(len(adata_batches))):\n",
    "for i, ax in zip(range(len(adata_batches)), axes.flatten()):\n",
    "    sc.pl.scatter(adata_batches[i], x='total_counts', y='n_genes_by_counts', show=False, ax=ax)\n",
    "    ax.set_title(data_batches_labels[i])\n",
    "    \n",
    "fig.tight_layout()"
   ]
  },
  {
   "cell_type": "code",
   "execution_count": null,
   "id": "546c88f0",
   "metadata": {},
   "outputs": [],
   "source": [
    "fig, axes = plt.subplots(1,3, figsize=(3*4,8))\n",
    "for i, ax in zip(range(len(adata_batches)), axes.flatten()):\n",
    "    sc.pl.violin(adata_batches[i], 'pct_counts_mt', log=False, jitter=0.4, stripplot=False, show=False, ax=ax, color=\"teal\")\n",
    "    ax.set_title(data_batches_labels[i])\n",
    "    \n",
    "fig.tight_layout()\n",
    "\n",
    "fig, axes = plt.subplots(1,3, figsize=(3*4,8))\n",
    "#for ax, i in zip(axes.flatten(), range(len(adata_batches))):\n",
    "for i, ax in zip(range(len(adata_batches)), axes.flatten()):\n",
    "    sc.pl.scatter(adata_batches[i], x='total_counts', y='pct_counts_mt', show=False, ax=ax)\n",
    "    ax.set_title(data_batches_labels[i])\n",
    "    \n",
    "fig.tight_layout()\n",
    "\n",
    "fig, axes = plt.subplots(1,3, figsize=(3*4,8))\n",
    "#for ax, i in zip(axes.flatten(), range(len(adata_batches))):\n",
    "for i, ax in zip(range(len(adata_batches)), axes.flatten()):\n",
    "    sc.pl.scatter(adata_batches[i], x='total_counts', y='pct_counts_ribo', show=False, ax=ax)\n",
    "    ax.set_title(data_batches_labels[i])\n",
    "    \n",
    "fig.tight_layout()"
   ]
  },
  {
   "cell_type": "code",
   "execution_count": null,
   "id": "fee491ae",
   "metadata": {},
   "outputs": [],
   "source": [
    "fig, axes = plt.subplots(1,3, figsize=(3*4,8))\n",
    "for i, ax in zip(range(len(adata_batches)), axes.flatten()):\n",
    "    sc.pl.violin(adata_batches[i], 'n_genes_by_counts', log=False, jitter=0.4, stripplot=True, show=False, ax=ax)\n",
    "    ax.set_title(data_batches_labels[i])\n",
    "    ax.axhline(y=np.percentile(adata_batches[i].obs['n_genes_by_counts'], 15), color=\"red\")\n",
    "    ax.axhline(y=np.percentile(adata_batches[i].obs['n_genes_by_counts'], 98), color=\"red\")\n",
    "    ax.set_ylim([0, 7000])\n",
    "    \n",
    "fig.tight_layout()"
   ]
  },
  {
   "cell_type": "code",
   "execution_count": null,
   "id": "af37b12b",
   "metadata": {},
   "outputs": [],
   "source": [
    "np.percentile(adata_batches[1].obs['n_genes_by_counts'], 98)"
   ]
  },
  {
   "cell_type": "code",
   "execution_count": null,
   "id": "7206e082",
   "metadata": {},
   "outputs": [],
   "source": [
    "adata_batches[0].shape"
   ]
  },
  {
   "cell_type": "code",
   "execution_count": null,
   "id": "6226841f",
   "metadata": {},
   "outputs": [],
   "source": [
    "adata_batches[1].shape"
   ]
  },
  {
   "cell_type": "code",
   "execution_count": null,
   "id": "0c92d403",
   "metadata": {},
   "outputs": [],
   "source": [
    "adata_batches[2].shape"
   ]
  },
  {
   "cell_type": "code",
   "execution_count": null,
   "id": "1544c26d",
   "metadata": {},
   "outputs": [],
   "source": [
    "adata_batches"
   ]
  },
  {
   "cell_type": "markdown",
   "id": "d454cb92",
   "metadata": {},
   "source": [
    "## Cutoff step\n",
    "\n",
    "instead of removing -MT, remove >98th percentile and <15th percentile"
   ]
  },
  {
   "cell_type": "code",
   "execution_count": null,
   "id": "f6c2198b",
   "metadata": {},
   "outputs": [],
   "source": [
    "rep_tables = adata_batches"
   ]
  },
  {
   "cell_type": "code",
   "execution_count": null,
   "id": "463b93d3",
   "metadata": {},
   "outputs": [],
   "source": [
    "adata_batches[0] = adata_batches[0][(adata_batches[0].obs['n_genes_by_counts'] < np.percentile(adata_batches[0].obs['n_genes_by_counts'], 98)) & (adata_batches[0].obs['n_genes_by_counts'] >= np.percentile(adata_batches[0].obs['n_genes_by_counts'], 15))]"
   ]
  },
  {
   "cell_type": "code",
   "execution_count": null,
   "id": "572e93fe",
   "metadata": {},
   "outputs": [],
   "source": [
    "adata_batches[1] = adata_batches[1][(adata_batches[1].obs['n_genes_by_counts'] < np.percentile(adata_batches[1].obs['n_genes_by_counts'], 98)) & (adata_batches[1].obs['n_genes_by_counts'] >= np.percentile(adata_batches[1].obs['n_genes_by_counts'], 15))]"
   ]
  },
  {
   "cell_type": "code",
   "execution_count": null,
   "id": "bb990300",
   "metadata": {},
   "outputs": [],
   "source": [
    "adata_batches[2] = adata_batches[2][(adata_batches[2].obs['n_genes_by_counts'] < np.percentile(adata_batches[2].obs['n_genes_by_counts'], 98)) & (adata_batches[2].obs['n_genes_by_counts'] >= np.percentile(adata_batches[2].obs['n_genes_by_counts'], 15))]"
   ]
  },
  {
   "cell_type": "code",
   "execution_count": null,
   "id": "1938918c",
   "metadata": {},
   "outputs": [],
   "source": [
    "#check data shape after cutoff step\n",
    "adata_batches"
   ]
  },
  {
   "cell_type": "code",
   "execution_count": null,
   "id": "29608125",
   "metadata": {},
   "outputs": [],
   "source": [
    "adata_batches[0].shape"
   ]
  },
  {
   "cell_type": "code",
   "execution_count": null,
   "id": "303e2a21",
   "metadata": {},
   "outputs": [],
   "source": [
    "adata_batches[1].shape"
   ]
  },
  {
   "cell_type": "code",
   "execution_count": null,
   "id": "64eeaa12",
   "metadata": {},
   "outputs": [],
   "source": [
    "adata_batches[2].shape"
   ]
  },
  {
   "cell_type": "markdown",
   "id": "38c6f010",
   "metadata": {},
   "source": [
    "## Doublet Identification\n",
    "\n",
    "### DoubletDetection\n",
    "\n",
    "This software [`DoubletDetection`](https://pypi.org/project/doubletdetection/) predicts which cells are doublets. The advantage to this method is that it does not require an *a priori* prediction of how many doublets will be found, and instead runs iteratively until the model converges to an answer."
   ]
  },
  {
   "cell_type": "code",
   "execution_count": null,
   "id": "753abdf6",
   "metadata": {},
   "outputs": [],
   "source": [
    "os.mkdir(os.path.join(os.getcwd(), \"outs\"))\n",
    "os.mkdir(os.path.join(os.getcwd(), \"outs\", \"DoubletDetection\"))"
   ]
  },
  {
   "cell_type": "code",
   "execution_count": null,
   "id": "665a7f57",
   "metadata": {},
   "outputs": [],
   "source": [
    "os.path.exists(os.path.abspath(os.path.join(os.getcwd(), \"outs\", \"DoubletDetection\")))"
   ]
  },
  {
   "cell_type": "code",
   "execution_count": null,
   "id": "63f2a942",
   "metadata": {},
   "outputs": [],
   "source": [
    "import doubletdetection\n",
    "\n",
    "for i in range(len(adata_batches)):\n",
    "    \n",
    "    clf = doubletdetection.BoostClassifier(\n",
    "    n_iters=25,  \n",
    "    standard_scaling=True)\n",
    "    doublets = clf.fit(adata_batches[i].X).predict(p_thresh=1e-16, voter_thresh=0.5)\n",
    "    doublet_score = clf.doublet_score()\n",
    "    \n",
    "    # mkdir for output if not exist already\n",
    "    outdir = os.path.abspath(os.path.join(os.getcwd(), \"outs\", \"DoubletDetection\"))\n",
    "    if os.path.exists(outdir) == False:\n",
    "        os.makedirs(outdir)\n",
    "    # write plots\n",
    "    f = doubletdetection.plot.convergence(clf, save=os.path.abspath(os.path.join(outdir, 'convergence_test_' + data_batches_labels[i] + '.pdf')), show=True, p_thresh=1e-16, voter_thresh=0.5)\n",
    "    f3 = doubletdetection.plot.threshold(clf, save=os.path.abspath(os.path.join(outdir, 'threshold_test_' + data_batches_labels[i] + '.pdf')), show=True, p_step=6)\n",
    "    \n",
    "    # count doublets\n",
    "    print(\"detected \" + str(sum(doublets)) + \" doublets in \" + data_batches_labels[i])\n",
    "    \n",
    "    # apply\n",
    "    adata_batches[i].obs['doublet_score_dd'] = doublet_score\n",
    "    adata_batches[i].obs['doublet_dd'] = doublets"
   ]
  },
  {
   "cell_type": "markdown",
   "id": "280b0a09",
   "metadata": {},
   "source": [
    "## Remove Doublets"
   ]
  },
  {
   "cell_type": "code",
   "execution_count": null,
   "id": "691edc2e",
   "metadata": {},
   "outputs": [],
   "source": [
    "# filter cells thought to be doublets\n",
    "\n",
    "for i in range(len(adata_batches)):\n",
    "    adata_batches[i] = adata_batches[i][(adata_batches[i].obs['doublet_dd'] == 0.0)]"
   ]
  },
  {
   "cell_type": "code",
   "execution_count": null,
   "id": "df69df69",
   "metadata": {},
   "outputs": [],
   "source": [
    "adata_batches[0]"
   ]
  },
  {
   "cell_type": "code",
   "execution_count": null,
   "id": "b449609f",
   "metadata": {},
   "outputs": [],
   "source": [
    "adata_batches[1]"
   ]
  },
  {
   "cell_type": "code",
   "execution_count": null,
   "id": "7ba3c856",
   "metadata": {},
   "outputs": [],
   "source": [
    "adata_batches[2]"
   ]
  },
  {
   "cell_type": "code",
   "execution_count": null,
   "id": "f8255bfe",
   "metadata": {},
   "outputs": [],
   "source": [
    "fig, axes = plt.subplots(1,3, figsize=(3*4,8))\n",
    "for i, ax in zip(range(len(adata_batches)), axes.flatten()):\n",
    "    sc.pl.violin(adata_batches[i], 'n_genes_by_counts', log=False, jitter=0.4, stripplot=False, show=False, ax=ax)\n",
    "\n",
    "fig, axes = plt.subplots(1,3, figsize=(3*4,8))\n",
    "for i, ax in zip(range(len(adata_batches)), axes.flatten()):\n",
    "    sc.pl.violin(adata_batches[i], 'total_counts', log=False, jitter=0.4, stripplot=False, show=False, ax=ax)\n",
    "    ax.set_ylim([0, 20000])\n",
    "\n",
    "fig, axes = plt.subplots(1,3, figsize=(3*4,8))\n",
    "for i, ax in zip(range(len(adata_batches)), axes.flatten()):\n",
    "    sc.pl.violin(adata_batches[i], 'total_counts', log=False, jitter=0.4, stripplot=False, show=False, ax=ax)\n",
    "\n",
    "fig, axes = plt.subplots(1,3, figsize=(3*4,8))\n",
    "for i, ax in zip(range(len(adata_batches)), axes.flatten()):\n",
    "    sc.pl.violin(adata_batches[i], 'total_counts', log=True, jitter=0.4, stripplot=True, show=False, ax=ax)\n",
    "\n",
    "fig, axes = plt.subplots(1,3, figsize=(3*4,8))\n",
    "for i, ax in zip(range(len(adata_batches)), axes.flatten()):\n",
    "    sc.pl.violin(adata_batches[i], 'total_counts', log=True, jitter=0.4, stripplot=True, show=False, ax=ax)\n",
    "    ax.set_ylim([0, 1000])\n",
    "\n",
    "fig.tight_layout()"
   ]
  },
  {
   "cell_type": "markdown",
   "id": "e315ee9a",
   "metadata": {},
   "source": [
    "## Merge\n",
    "\n",
    "This uses [anndata concatenation](https://anndata.readthedocs.io/en/latest/concatenation.html) to concatenate anndata objects from independent samples."
   ]
  },
  {
   "cell_type": "code",
   "execution_count": null,
   "id": "d022b971",
   "metadata": {},
   "outputs": [],
   "source": [
    "# concatenate all anndata NO VELOC\n",
    "adata = anndata.concat(adata_batches, keys=data_batches_labels, index_unique=\"_\", merge=\"same\")"
   ]
  },
  {
   "cell_type": "markdown",
   "id": "87eb3684",
   "metadata": {},
   "source": [
    "# Normalization\n",
    "\n",
    "The approach to normalization will be to do the standard log(x+1), which will be used for DGE and statistical testing since many of the single-cell applications assume this method.\n",
    "\n",
    "But, we'll also store [layers](https://anndata.readthedocs.io/en/latest/anndata.AnnData.layers.html) on the anndata object with square-root transcripts per million and MAGIC-denoised square-root transcripts per million for visualization purposes. Layers are additional matrices of identical size to the cell-gene matrix but different values, for instance \"raw\" and normalized counts.\n",
    "\n",
    "De-noising of the data using MAGIC is best for analyses that examine single genes, such as visualizing a gene's expression across cells or clusters"
   ]
  },
  {
   "cell_type": "code",
   "execution_count": null,
   "id": "66e90080",
   "metadata": {},
   "outputs": [],
   "source": [
    "#re-transforming if needed\n",
    "sc.pp.log1p(adata)"
   ]
  },
  {
   "cell_type": "code",
   "execution_count": null,
   "id": "0f7ac3b9",
   "metadata": {},
   "outputs": [],
   "source": [
    "# save raw counts to layer\n",
    "\n",
    "adata.layers[\"counts\"] = adata.X.copy()\n",
    "\n",
    "# scprep normalization\n",
    "\n",
    "# may want to use adata.to_df() to turn adata.X into a regular matrix?\n",
    "\n",
    "data_norm, library_size = scprep.normalize.library_size_normalize(adata.to_df(), rescale=1e6, return_library_size=True)\n",
    "data_sqrt = scprep.transform.sqrt(data_norm)\n",
    "data_magic = magic.MAGIC(random_state = 0).fit_transform(data_sqrt)\n",
    "adata.obs['scprep_library_size'] = library_size\n",
    "\n",
    "# add scprep SQRT CPM and MAGIC layers\n",
    "\n",
    "adata.layers['sqrtcpm'] = data_sqrt\n",
    "adata.layers['sqrtcpm_magic'] = data_magic\n",
    "\n",
    "# scanpy normalization\n",
    "\n",
    "sc.pp.normalize_total(adata, target_sum=1e4)\n",
    "sc.pp.log1p(adata)\n",
    "#sc.pp.highly_variable_genes(adata, min_mean=0.0125, max_mean=3, min_disp=0.5)\n",
    "\n",
    "# save the lognorm data as .raw for statistical testing purposes\n",
    "#adata.raw = adata\n",
    "\n",
    "#sc.pl.highly_variable_genes(adata)"
   ]
  },
  {
   "cell_type": "code",
   "execution_count": null,
   "id": "2f308333",
   "metadata": {},
   "outputs": [],
   "source": [
    "sc.pp.highly_variable_genes(adata, min_mean=0.0125, max_mean=3, min_disp=0.5)\n",
    "sc.pl.highly_variable_genes(adata)"
   ]
  },
  {
   "cell_type": "markdown",
   "id": "54b67e69",
   "metadata": {},
   "source": [
    "## Data Integration and Embedding\n"
   ]
  },
  {
   "cell_type": "markdown",
   "id": "cabcb8d2",
   "metadata": {},
   "source": [
    "## Harmony\n",
    "\n",
    "We use Haromny as implemented in scanpy using [`scanpy.external.pp.harmony_integrate`](https://scanpy.readthedocs.io/en/stable/generated/scanpy.external.pp.harmony_integrate.html)."
   ]
  },
  {
   "cell_type": "code",
   "execution_count": null,
   "id": "61f37930",
   "metadata": {},
   "outputs": [],
   "source": [
    "sc.tl.pca(adata, random_state=0)\n",
    "sc.external.pp.harmony_integrate(adata, key = 'sample_labels', random_state=0)\n",
    "sc.pl.pca_variance_ratio(adata, log=True)"
   ]
  },
  {
   "cell_type": "markdown",
   "id": "476bc74e",
   "metadata": {},
   "source": [
    "We can assess what `harmony` did by comparing the first two PCA dimensions before and after running it."
   ]
  },
  {
   "cell_type": "code",
   "execution_count": null,
   "id": "3984be9a",
   "metadata": {},
   "outputs": [],
   "source": [
    "# plot PCA versus harmony-corrected PCA\n",
    "\n",
    "fig, axes = plt.subplots(1,2, figsize=(5*2,4*1))\n",
    "\n",
    "sc.pl.embedding(adata, \"X_pca\", title=\"Pre Harmony\", legend_loc=\"right margin\", legend_fontsize=\"xx-small\", show=False, ax=axes[0])\n",
    "sc.pl.embedding(adata, \"X_pca_harmony\", title=\"Post Harmony\", legend_loc=\"right margin\", legend_fontsize=\"xx-small\", show=False, ax=axes[1])\n",
    "\n",
    "fig.tight_layout()\n",
    "\n",
    "# plot PCA versus harmony-corrected PCA\n",
    "\n",
    "fig, axes = plt.subplots(1,2, figsize=(5*2,4*1))\n",
    "\n",
    "sc.pl.embedding(adata, \"X_pca\", color=\"sample_labels\", title=\"Pre Harmony\", legend_loc=\"right margin\", legend_fontsize=\"xx-small\", show=False, ax=axes[0])\n",
    "sc.pl.embedding(adata, \"X_pca_harmony\", color=\"sample_labels\", title=\"Post Harmony\", legend_loc=\"right margin\", legend_fontsize=\"xx-small\", show=False, ax=axes[1])\n",
    "#plt.savefig(\"Md_Harmony.png\")\n",
    "fig.tight_layout()\n",
    "\n"
   ]
  },
  {
   "cell_type": "markdown",
   "id": "2d3c5061",
   "metadata": {},
   "source": [
    "## Embedding\n",
    "\n",
    "The goal of embedding is to visualize the cells in 2 dimensions and identify clusters of cell types and states.\n",
    "\n",
    "The most common method we will use first is `UMAP`.\n"
   ]
  },
  {
   "cell_type": "code",
   "execution_count": null,
   "id": "3bfa2142",
   "metadata": {},
   "outputs": [],
   "source": [
    "# calculate neighbors graph\n",
    "\n",
    "#regular\n",
    "sc.pp.neighbors(adata, use_rep = \"X_pca\", n_neighbors=10, n_pcs=40, random_state=0, key_added=\"neighbors\")\n",
    "#harmony\n",
    "sc.pp.neighbors(adata, use_rep = \"X_pca_harmony\", n_neighbors=10, n_pcs=40, random_state=0, key_added=\"neighbors_harmony\")\n",
    "\n",
    "# use harmony's 'neighbors' key to embed UMAP\n",
    "sc.tl.umap(adata, neighbors_key=\"neighbors_harmony\", random_state=0)\n",
    "\n",
    "# embed PHATE\n",
    "\n",
    "sc.external.tl.phate(adata, k=5, a=20, t=150, random_state=0)"
   ]
  },
  {
   "cell_type": "code",
   "execution_count": null,
   "id": "6c5c8a20",
   "metadata": {},
   "outputs": [],
   "source": [
    "#plot umap colored by replicate\n",
    "sc.pl.umap(adata, color=\"sample_labels\", palette=['lightgrey', 'mediumaquamarine', 'teal',])"
   ]
  },
  {
   "cell_type": "code",
   "execution_count": null,
   "id": "c6e38d6a",
   "metadata": {},
   "outputs": [],
   "source": [
    "#Plot each replicate individually\n",
    "sc.pl.umap(adata[adata.obs['sample_labels'] == 'Rep1'])\n",
    "sc.pl.umap(adata[adata.obs['sample_labels'] == 'Rep2'])\n",
    "sc.pl.umap(adata[adata.obs['sample_labels'] == 'Rep3'])"
   ]
  },
  {
   "cell_type": "code",
   "execution_count": null,
   "id": "fe644f92",
   "metadata": {},
   "outputs": [],
   "source": [
    "sc.pl.scatter(adata, basis='phate')\n"
   ]
  },
  {
   "cell_type": "code",
   "execution_count": null,
   "id": "c8af7192",
   "metadata": {},
   "outputs": [],
   "source": [
    "#Phate plot colored by replicate\n",
    "fig, axes = plt.subplots(1,2, figsize=(5*2,4*1))\n",
    "sc.pl.scatter(adata, basis=\"phate\", color=\"sample_labels\", title=\"PHATE\", legend_loc=\"right margin\", legend_fontsize=\"xx-small\", show=False, ax=axes[1])\n"
   ]
  },
  {
   "cell_type": "markdown",
   "id": "bddf7743",
   "metadata": {},
   "source": [
    "# Cluster Analysis"
   ]
  },
  {
   "cell_type": "markdown",
   "id": "38ed0027",
   "metadata": {},
   "source": [
    "## Leiden\n",
    "\n",
    "Leiden clustering is a good starting point for UMAP embeddings. It's a graph-based clustering and takes a resolution parameter, the defualt of which is 1."
   ]
  },
  {
   "cell_type": "code",
   "execution_count": null,
   "id": "0140e9f5",
   "metadata": {},
   "outputs": [],
   "source": [
    "resolutions = (0.4, 0.6, 1.0, 1.2, 1.4, 1.8)\n",
    "for resolution in resolutions:\n",
    "    sc.tl.leiden(adata, resolution=resolution, key_added=\"leiden_\" + str(\"{:.1f}\".format(resolution)), neighbors_key=\"neighbors_harmony\", random_state=0)"
   ]
  },
  {
   "cell_type": "code",
   "execution_count": null,
   "id": "a1fd696a",
   "metadata": {},
   "outputs": [],
   "source": [
    "# plot all resolutions\n",
    "fig, axes = plt.subplots(2,3, figsize=(4*3,4*2))\n",
    "for j, ax in zip(resolutions, axes.flatten()):\n",
    "    myslice = \"leiden_\" + str(\"{:.1f}\".format(j))\n",
    "    sc.pl.umap(adata, color=myslice, title=myslice + \": \" + str(len(set(adata.obs[myslice]))) + \" clusters\", legend_loc=\"on data\", show=False, ax=ax)\n",
    "    #plt.savefig(\"Md_AllData_LeidenClusters.png\")\n",
    "fig.tight_layout()"
   ]
  },
  {
   "cell_type": "code",
   "execution_count": null,
   "id": "c3b95257",
   "metadata": {},
   "outputs": [],
   "source": [
    "#set slice to the one you will be using\n",
    "myslice = \"leiden_1.4\"\n",
    "\n",
    "# conduct the 3 main tests on cluster IDs\n",
    "sc.tl.rank_genes_groups(adata, \"leiden_1.4\", method='logreg', key_added=\"rank_genes_groups_logreg\")\n",
    "sc.tl.rank_genes_groups(adata, \"leiden_1.4\", method='t-test', key_added=\"rank_genes_groups_t-test\")\n",
    "sc.tl.rank_genes_groups(adata, \"leiden_1.4\", method='wilcoxon', key_added=\"rank_genes_groups_wilcoxon\")"
   ]
  },
  {
   "cell_type": "code",
   "execution_count": null,
   "id": "840f5171",
   "metadata": {},
   "outputs": [],
   "source": [
    "#Write Cluster Markers\n",
    "\n",
    "myslice = \"leiden_1.4\"\n",
    "bonus = \"Opossum_Original_Comb_\"\n",
    "\n",
    "# mkdir for output if not exist already\n",
    "outdir = os.path.abspath(os.path.join(os.getcwd(), \"outs\", \"dge\"))\n",
    "if os.path.exists(outdir) == False:\n",
    "    os.makedirs(outdir)\n",
    "\n",
    "with pd.ExcelWriter(os.path.join(outdir, 'cluster_markers_' + bonus + myslice + '.xlsx')) as writer:\n",
    "    # Logistic regression marker identification\n",
    "    result = adata.uns['rank_genes_groups_logreg']\n",
    "    groups = result['names'].dtype.names\n",
    "    markers = pd.DataFrame({group + '_' + key[:6]: result[key][group] for group in groups for key in ['names', 'scores']}).head(500)\n",
    "    markers.to_excel(writer, sheet_name = \"markers_all_logreg\")\n",
    "    \n",
    "    # t-test marker identification\n",
    "    result = adata.uns['rank_genes_groups_t-test']\n",
    "    groups = result['names'].dtype.names\n",
    "    markers = pd.DataFrame({group + '_' + key[:6]: result[key][group] for group in groups for key in ['names', 'pvals_adj']}).head(500)\n",
    "    markers.to_excel(writer, sheet_name = \"markers_all_ttest\")\n",
    "    \n",
    "    # Wilcoxon marker identification\n",
    "    result = adata.uns['rank_genes_groups_wilcoxon']\n",
    "    groups = result['names'].dtype.names\n",
    "    markers = pd.DataFrame({group + '_' + key[:6]: result[key][group] for group in groups for key in ['names', 'pvals_adj']}).head(500)\n",
    "    markers.to_excel(writer, sheet_name = \"markers_all_wilcoxon\")"
   ]
  },
  {
   "cell_type": "markdown",
   "id": "cccd39b2",
   "metadata": {},
   "source": [
    "# Marker Gene Lists"
   ]
  },
  {
   "cell_type": "code",
   "execution_count": null,
   "id": "e27cf9aa",
   "metadata": {},
   "outputs": [],
   "source": [
    "marker_genes_comb_germ = ['CRABP1 (ENSMODG00000011710)', 'SOHLH1 (ENSMODG00000029683)', \n",
    "                'KIT (ENSMODG00000020671)', 'DMRT1 (ENSMODG00000003401)',  'UCHL1 (ENSMODG00000020568)',\n",
    "                'STRA8 (ENSMODG00000014081)', 'SYCP1 (ENSMODG00000004800)', 'SYCP2 (ENSMODG00000016617)', \n",
    "                'CCNA1 (ENSMODG00000009993)', 'AURKA (ENSMODG00000016435)', \n",
    "                'ZPBP (ENSMODG00000009302)', 'TMEM144 (ENSMODG00000001956)', \n",
    "                'SPACA1 (ENSMODG00000018292)', 'TNP1 (ENSMODG00000024866)', 'TSSK6 (ENSMODG00000023787)', \n",
    "                'PRM1 (ENSMODG00000005135)']\n",
    "\n",
    "marker_genes_comb_som = ['DCN (ENSMODG00000009654)', 'CD74 (ENSMODG00000028756)',  \n",
    "                'TYROBP (ENSMODG00000014057)', 'SOX9 (ENSMODG00000006526)', 'FSHR (ENSMODG00000001267)',\n",
    "                'CLU (ENSMODG00000015960)', 'STAR (ENSMODG00000010748)', 'CYP17A1 (ENSMODG00000011205)', \n",
    "                'CYP11A1 (ENSMODG00000009689)', 'ACTA2 (ENSMODG00000007394)', 'TAGLN (ENSMODG00000013744)', \n",
    "                'PECAM1 (ENSMODG00000025673)',\n",
    "                'RAMP2 (ENSMODG00000015038)']\n"
   ]
  },
  {
   "cell_type": "code",
   "execution_count": null,
   "id": "199b2efd",
   "metadata": {
    "scrolled": false
   },
   "outputs": [],
   "source": [
    "# plot marker genes-germ\n",
    "fig, axes = plt.subplots(13,3, figsize=(4*3,4*13))\n",
    "for j, ax in zip(marker_genes_comb_germ, axes.flatten()):\n",
    "    sc.pl.umap(adata, color=chinpy.pp.search(adata, j, startswith=True), layer=\"sqrtcpm_magic\", title=j, legend_loc=\"on data\", show=False, ax=ax)\n",
    "    \n",
    "fig.tight_layout()"
   ]
  },
  {
   "cell_type": "code",
   "execution_count": null,
   "id": "57cdfbad",
   "metadata": {
    "scrolled": true
   },
   "outputs": [],
   "source": [
    "# plot marker genes-somatic\n",
    "fig, axes = plt.subplots(7,3, figsize=(4*3,4*7))\n",
    "for j, ax in zip(marker_genes_comb_som, axes.flatten()):\n",
    "    sc.pl.umap(adata, color=chinpy.pp.search(adata, j, startswith=True), layer=\"sqrtcpm_magic\", title=j, legend_loc=\"on data\", show=False, ax=ax)\n",
    "    \n",
    "fig.tight_layout()"
   ]
  },
  {
   "cell_type": "markdown",
   "id": "1e49df3e",
   "metadata": {},
   "source": [
    "## Seeing if mitochondrial genes cluster somewhere"
   ]
  },
  {
   "cell_type": "code",
   "execution_count": null,
   "id": "3e10586e",
   "metadata": {
    "scrolled": true
   },
   "outputs": [],
   "source": [
    "# plot marker genes\n",
    "fig, axes = plt.subplots(10,3, figsize=(4*3,4*10))\n",
    "for j, ax in zip(mtgenelist, axes.flatten()):\n",
    "    sc.pl.umap(adata, color=chinpy.pp.search(adata, j, startswith=True), layer=\"sqrtcpm_magic\", title=j, legend_loc=\"on data\", show=False, ax=ax)\n",
    "    \n",
    "fig.tight_layout()"
   ]
  },
  {
   "cell_type": "markdown",
   "id": "20c1d4b2",
   "metadata": {},
   "source": [
    "# Cluster Labels"
   ]
  },
  {
   "cell_type": "code",
   "execution_count": null,
   "id": "d5ddd9eb",
   "metadata": {},
   "outputs": [],
   "source": [
    "#label clusters as germ or somatic\n",
    "coarse_labels = {\"0\": \"somatic_cells\",\n",
    "                \"1\": \"somatic_cells\",\n",
    "                \"2\": \"somatic_cells\",\n",
    "                \"3\": \"somatic_cells\",\n",
    "                \"4\": \"germ_cells\",\n",
    "                \"5\": \"germ_cells\",\n",
    "                \"6\": \"germ_cells\",\n",
    "                ...\n",
    "                \"21\": \"somatic_cells\"}\n",
    "\n",
    "\n",
    "#germ_cells\n",
    "#somatic_cells\n"
   ]
  },
  {
   "cell_type": "code",
   "execution_count": null,
   "id": "a348da81",
   "metadata": {},
   "outputs": [],
   "source": [
    "#add cluster labels\n",
    "adata.obs['leiden_coarse'] = [coarse_labels[i] for i in adata.obs['leiden_0.4']]\n",
    "\n"
   ]
  },
  {
   "cell_type": "code",
   "execution_count": null,
   "id": "22416100",
   "metadata": {
    "scrolled": true
   },
   "outputs": [],
   "source": [
    "sc.pl.umap(adata, color=[\"leiden_coarse\"])\n",
    "#, save = \"Md_AllData_UMAP_CellCategory.png\""
   ]
  },
  {
   "cell_type": "markdown",
   "id": "19f36f1e",
   "metadata": {},
   "source": [
    "Saved adata as an h5ad so next time I can load this in as an object instead of repeating all steps and getting a different umap"
   ]
  },
  {
   "cell_type": "code",
   "execution_count": null,
   "id": "bcc5c1b9",
   "metadata": {},
   "outputs": [],
   "source": [
    "adata.write_h5ad('Md_SingleCell_3Rep.h5ad')"
   ]
  },
  {
   "cell_type": "code",
   "execution_count": null,
   "id": "1898b42d",
   "metadata": {},
   "outputs": [],
   "source": [
    "# read h5ad back if needed\n",
    "adata = anndata.read_h5ad(\"path/to/Md_SingleCell_3Rep.h5ad\")\n"
   ]
  },
  {
   "cell_type": "code",
   "execution_count": null,
   "id": "a961aeae",
   "metadata": {},
   "outputs": [],
   "source": [
    "adata_germ = adata[adata.obs[\"leiden_coarse\"] == \"germ_cells\"]\n",
    "adata_som = adata[adata.obs[\"leiden_coarse\"] == \"somatic_cells\"]\n",
    "adata_sub = adata[adata.obs[\"leiden_coarse\"] != \"remove\"]"
   ]
  },
  {
   "cell_type": "code",
   "execution_count": null,
   "id": "58c32395",
   "metadata": {},
   "outputs": [],
   "source": [
    "adata"
   ]
  },
  {
   "cell_type": "code",
   "execution_count": null,
   "id": "4b3fde19",
   "metadata": {},
   "outputs": [],
   "source": [
    "adata_sub"
   ]
  },
  {
   "cell_type": "code",
   "execution_count": null,
   "id": "20d4d60a",
   "metadata": {},
   "outputs": [],
   "source": [
    "adata_som"
   ]
  },
  {
   "cell_type": "code",
   "execution_count": null,
   "id": "6a30fd34",
   "metadata": {},
   "outputs": [],
   "source": [
    "adata_germ"
   ]
  },
  {
   "cell_type": "markdown",
   "id": "c942fdfb",
   "metadata": {},
   "source": [
    "## Re-embedding"
   ]
  },
  {
   "cell_type": "code",
   "execution_count": null,
   "id": "83135713",
   "metadata": {},
   "outputs": [],
   "source": [
    "sc.tl.pca(adata_sub, random_state=0, use_highly_variable=True)\n",
    "# calculate neighbors graph\n",
    "\n",
    "#regular\n",
    "sc.pp.neighbors(adata_sub, use_rep = \"X_pca\", n_neighbors=10, n_pcs=40, random_state=0, key_added=\"neighbors\")\n",
    "#harmony\n",
    "sc.pp.neighbors(adata_sub, use_rep = \"X_pca_harmony\", n_neighbors=10, n_pcs=40, random_state=0, key_added=\"neighbors_harmony\")\n",
    "\n",
    "# use harmony's 'neighbors' key to embed UMAP\n",
    "sc.tl.umap(adata_sub, neighbors_key=\"neighbors_harmony\", random_state=0)\n",
    "\n",
    "# embed PHATE\n",
    "\n",
    "sc.external.tl.phate(adata_sub, k=5, a=20, t=150, random_state=0)"
   ]
  },
  {
   "cell_type": "code",
   "execution_count": null,
   "id": "b6478f10",
   "metadata": {},
   "outputs": [],
   "source": [
    "# plot UMAP \n",
    "sc.pl.umap(adata_sub)\n",
    "sc.pl.scatter(adata_sub, basis='phate')"
   ]
  },
  {
   "cell_type": "code",
   "execution_count": null,
   "id": "8cbf460f",
   "metadata": {},
   "outputs": [],
   "source": [
    "#sc.pl.umap(adata_sub, color=[\"leiden_named\"])\n",
    "#sc.pl.umap(adata_sub, color=[\"leiden_named\"]) #, save = \"Md_Sub_UMAP_CellCategory.png\")\n",
    "sc.pl.umap(adata_sub, color=[\"leiden_coarse\"] , palette = {\n",
    "    \"germ_cells\": \"black\",\n",
    "    \"somatic_cells\": \"silver\"\n",
    "})\n",
    "#, save = \"Md_Sub_UMAP_CellCategory.png\")\n",
    "sc.pl.umap(adata_sub, color=[\"leiden_coarse\"])\n",
    "#sc.pl.umap(adata_sub, color=[\"leiden_coarse\"], save = \"Md_Sub_UMAP_CellCategory.png\")"
   ]
  },
  {
   "cell_type": "code",
   "execution_count": null,
   "id": "42fd1063",
   "metadata": {},
   "outputs": [],
   "source": [
    "sc.tl.pca(adata_germ, random_state=0, use_highly_variable=True)\n",
    "# calculate neighbors graph\n",
    "\n",
    "#regular\n",
    "sc.pp.neighbors(adata_germ, use_rep = \"X_pca\", n_neighbors=10, n_pcs=40, random_state=0, key_added=\"neighbors\")\n",
    "#harmony\n",
    "sc.pp.neighbors(adata_germ, use_rep = \"X_pca_harmony\", n_neighbors=10, n_pcs=40, random_state=0, key_added=\"neighbors_harmony\")\n",
    "\n",
    "# use harmony's 'neighbors' key to embed UMAP\n",
    "sc.tl.umap(adata_germ, neighbors_key=\"neighbors_harmony\", random_state=0)\n",
    "\n",
    "# embed PHATE\n",
    "\n",
    "sc.external.tl.phate(adata_germ, k=5, a=20, t=150, random_state=0)"
   ]
  },
  {
   "cell_type": "code",
   "execution_count": null,
   "id": "c4861414",
   "metadata": {},
   "outputs": [],
   "source": [
    "# plot UMAP \n",
    "sc.pl.umap(adata_germ)\n",
    "sc.pl.scatter(adata_germ, basis='phate')"
   ]
  },
  {
   "cell_type": "code",
   "execution_count": null,
   "id": "cfde4709",
   "metadata": {},
   "outputs": [],
   "source": [
    "sc.pl.umap(adata_germ, color=\"sample_labels\", palette=['lightgrey', 'mediumaquamarine', 'teal'])"
   ]
  },
  {
   "cell_type": "code",
   "execution_count": null,
   "id": "2d4405b7",
   "metadata": {},
   "outputs": [],
   "source": [
    "sc.pl.scatter(adata_germ, basis='phate', color=\"sample_labels\", palette=['lightgrey', 'mediumaquamarine', 'teal'])"
   ]
  },
  {
   "cell_type": "code",
   "execution_count": null,
   "id": "5972b145",
   "metadata": {},
   "outputs": [],
   "source": [
    "sc.pl.umap(adata_germ, color=[\"leiden_named\"])"
   ]
  },
  {
   "cell_type": "code",
   "execution_count": null,
   "id": "ccf47d8e",
   "metadata": {},
   "outputs": [],
   "source": [
    "sc.tl.pca(adata_som, random_state=0, use_highly_variable=True)\n",
    "# calculate neighbors graph\n",
    "\n",
    "#regular\n",
    "sc.pp.neighbors(adata_som, use_rep = \"X_pca\", n_neighbors=10, n_pcs=40, random_state=0, key_added=\"neighbors\")\n",
    "#harmony\n",
    "sc.pp.neighbors(adata_som, use_rep = \"X_pca_harmony\", n_neighbors=10, n_pcs=40, random_state=0, key_added=\"neighbors_harmony\")\n",
    "\n",
    "# use harmony's 'neighbors' key to embed UMAP\n",
    "sc.tl.umap(adata_som, neighbors_key=\"neighbors_harmony\", random_state=0)\n",
    "\n",
    "# embed PHATE\n",
    "\n",
    "#sc.external.tl.phate(adata_som, k=5, a=20, t=150, random_state=0)"
   ]
  },
  {
   "cell_type": "code",
   "execution_count": null,
   "id": "1b9ea2cc",
   "metadata": {},
   "outputs": [],
   "source": [
    "# plot UMAP \n",
    "sc.pl.umap(adata_som, color=\"sample_labels\", palette=['lightgrey', 'mediumaquamarine', 'teal'])\n",
    "#sc.pl.scatter(adata_som, basis='phate')"
   ]
  },
  {
   "cell_type": "markdown",
   "id": "1a9e4008",
   "metadata": {},
   "source": [
    "## Cluster Markers in new subset clusters"
   ]
  },
  {
   "cell_type": "code",
   "execution_count": null,
   "id": "b118a9bb",
   "metadata": {
    "scrolled": false
   },
   "outputs": [],
   "source": [
    "# plot germ marker genes in germ cells\n",
    "fig, axes = plt.subplots(13,3, figsize=(4*3,4*13))\n",
    "for j, ax in zip(marker_genes_comb_germ, axes.flatten()):\n",
    "    sc.pl.umap(adata_germ, color=chinpy.pp.search(adata_germ, j, startswith=True), layer=\"sqrtcpm_magic\", title=j, legend_loc=\"on data\", show=False, ax=ax)\n",
    "    \n",
    "fig.tight_layout()"
   ]
  },
  {
   "cell_type": "code",
   "execution_count": null,
   "id": "c1887e02",
   "metadata": {},
   "outputs": [],
   "source": [
    "# plot somatic marker genes in germ cells\n",
    "fig, axes = plt.subplots(8,3, figsize=(4*3,4*8))\n",
    "for j, ax in zip(marker_genes_comb_som, axes.flatten()):\n",
    "    sc.pl.umap(adata_germ, color=chinpy.pp.search(adata_germ, j, startswith=True), layer=\"sqrtcpm_magic\", title=j, legend_loc=\"on data\", show=False, ax=ax)\n",
    "#plt.savefig(\"Md_GermCell_MarkerGenesA.png\")       \n",
    "fig.tight_layout()"
   ]
  },
  {
   "cell_type": "code",
   "execution_count": null,
   "id": "75d99b59",
   "metadata": {
    "scrolled": false
   },
   "outputs": [],
   "source": [
    "# plot marker genes in somatic cells\n",
    "fig, axes = plt.subplots(8,3, figsize=(4*3,4*8))\n",
    "for j, ax in zip(marker_genes_comb_som, axes.flatten()):\n",
    "    sc.pl.umap(adata_som, color=chinpy.pp.search(adata_som, j, startswith=True), layer=\"sqrtcpm_magic\", title=j, legend_loc=\"on data\", show=False, ax=ax)\n",
    "    \n",
    "fig.tight_layout()"
   ]
  },
  {
   "cell_type": "code",
   "execution_count": null,
   "id": "331b19e6",
   "metadata": {},
   "outputs": [],
   "source": [
    "# plot marker genes in somatic cells\n",
    "fig, axes = plt.subplots(13,3, figsize=(4*3,4*13))\n",
    "for j, ax in zip(marker_genes_comb_germ, axes.flatten()):\n",
    "    sc.pl.umap(adata_som, color=chinpy.pp.search(adata_som, j, startswith=True), layer=\"sqrtcpm_magic\", title=j, legend_loc=\"on data\", show=False, ax=ax)\n",
    "    \n",
    "fig.tight_layout()"
   ]
  },
  {
   "cell_type": "markdown",
   "id": "6e48d3c8",
   "metadata": {},
   "source": [
    "## Re-Clustering with new subset data"
   ]
  },
  {
   "cell_type": "code",
   "execution_count": null,
   "id": "2c4f2dc9",
   "metadata": {},
   "outputs": [],
   "source": [
    "resolutions = (0.4, 0.6, 0.8, 1.0, 1.2, 1.4, 1.8)\n",
    "for resolution in resolutions:\n",
    "    sc.tl.leiden(adata_sub, resolution=resolution, key_added=\"leiden_\" + str(\"{:.1f}\".format(resolution)), neighbors_key=\"neighbors_harmony\", random_state=0)"
   ]
  },
  {
   "cell_type": "code",
   "execution_count": null,
   "id": "4b697ca1",
   "metadata": {},
   "outputs": [],
   "source": [
    "# plot all resolutions\n",
    "fig, axes = plt.subplots(2,3, figsize=(4*3,4*2))\n",
    "for j, ax in zip(resolutions, axes.flatten()):\n",
    "    myslice = \"leiden_\" + str(\"{:.1f}\".format(j))\n",
    "    sc.pl.umap(adata_sub, color=myslice, title=myslice + \": \" + str(len(set(adata_sub.obs[myslice]))) + \" clusters\", legend_loc=\"on data\", show=False, ax=ax)\n",
    "    #plt.savefig(\"Md_Sub_LeidenClusters.png\")  \n",
    "fig.tight_layout()"
   ]
  },
  {
   "cell_type": "code",
   "execution_count": null,
   "id": "3bc59a37",
   "metadata": {},
   "outputs": [],
   "source": [
    "resolutions = (0.4, 0.6, 0.8, 1.0, 1.2, 1.4, 1.8)\n",
    "for resolution in resolutions:\n",
    "    sc.tl.leiden(adata_germ, resolution=resolution, key_added=\"leiden_\" + str(\"{:.1f}\".format(resolution)), neighbors_key=\"neighbors_harmony\", random_state=0)"
   ]
  },
  {
   "cell_type": "code",
   "execution_count": null,
   "id": "811b6b0b",
   "metadata": {},
   "outputs": [],
   "source": [
    "# plot all resolutions\n",
    "fig, axes = plt.subplots(2,3, figsize=(4*3,4*2))\n",
    "for j, ax in zip(resolutions, axes.flatten()):\n",
    "    myslice = \"leiden_\" + str(\"{:.1f}\".format(j))\n",
    "    sc.pl.umap(adata_germ, color=myslice, title=myslice + \": \" + str(len(set(adata_germ.obs[myslice]))) + \" clusters\", legend_loc=\"on data\", show=False, ax=ax)\n",
    "#plt.savefig(\"Md_GermCell_LeidenClusters.png\")   \n",
    "fig.tight_layout()"
   ]
  },
  {
   "cell_type": "code",
   "execution_count": null,
   "id": "d6bff6d8",
   "metadata": {},
   "outputs": [],
   "source": [
    "#This is removing the transition group so may need to address that early!\n",
    "\n",
    "# plot all resolutions\n",
    "fig, axes = plt.subplots(2,3, figsize=(4*3,4*2))\n",
    "for j, ax in zip(resolutions, axes.flatten()):\n",
    "    myslice = \"leiden_\" + str(\"{:.1f}\".format(j))\n",
    "    sc.pl.umap(adata_germ_notrans, color=myslice, title=myslice + \": \" + str(len(set(adata_germ_notrans.obs[myslice]))) + \" clusters\", legend_loc=\"on data\", show=False, ax=ax)\n",
    "#plt.savefig(\"Md_GermCell_LeidenClusters.png\")   \n",
    "fig.tight_layout()"
   ]
  },
  {
   "cell_type": "code",
   "execution_count": null,
   "id": "70d6e96a",
   "metadata": {},
   "outputs": [],
   "source": [
    "resolutions = (0.4, 0.6, 0.8, 1.0, 1.2, 1.4, 1.8)\n",
    "for resolution in resolutions:\n",
    "    sc.tl.leiden(adata_som, resolution=resolution, key_added=\"leiden_\" + str(\"{:.1f}\".format(resolution)), neighbors_key=\"neighbors_harmony\", random_state=0)"
   ]
  },
  {
   "cell_type": "code",
   "execution_count": null,
   "id": "bc8d2a1a",
   "metadata": {},
   "outputs": [],
   "source": [
    "# plot all resolutions\n",
    "fig, axes = plt.subplots(2,3, figsize=(4*3,4*2))\n",
    "for j, ax in zip(resolutions, axes.flatten()):\n",
    "    myslice = \"leiden_\" + str(\"{:.1f}\".format(j))\n",
    "    sc.pl.umap(adata_som, color=myslice, title=myslice + \": \" + str(len(set(adata_som.obs[myslice]))) + \" clusters\", legend_loc=\"on data\", show=False, ax=ax)\n",
    "    plt.savefig(\"Md_SomCell_LeidenClusters_DevCell.png\")\n",
    "fig.tight_layout()"
   ]
  },
  {
   "cell_type": "markdown",
   "id": "f2694e3d",
   "metadata": {},
   "source": [
    "# Making UMAPs by replicate"
   ]
  },
  {
   "cell_type": "code",
   "execution_count": null,
   "id": "baed49dd",
   "metadata": {},
   "outputs": [],
   "source": [
    "# plot clusters on UMAP -sub\n",
    "sc.pl.scatter(adata_sub, basis=\"umap\", color=\"sample_labels\", title=\"\", palette=sc.pl.palettes.zeileis_28, legend_loc=\"right margin\", legend_fontsize=4) \n",
    "#, save = \"Md_sub_reps.png\")"
   ]
  },
  {
   "cell_type": "code",
   "execution_count": null,
   "id": "11ead2a0",
   "metadata": {},
   "outputs": [],
   "source": [
    "# plot clusters on UMAP -germ cells\n",
    "sc.pl.scatter(adata_germ, basis=\"umap\", color=\"sample_labels\", title=\"\", palette=sc.pl.palettes.zeileis_28, legend_loc=\"right margin\", legend_fontsize=4) \n",
    "#, save = \"Md_germ_reps.png\")\n"
   ]
  },
  {
   "cell_type": "code",
   "execution_count": null,
   "id": "4a480d71",
   "metadata": {},
   "outputs": [],
   "source": [
    "# plot clusters on UMAP\n",
    "sc.pl.scatter(adata_som, basis=\"umap\", color=\"sample_labels\", title=\"\", palette=sc.pl.palettes.zeileis_28, legend_loc=\"right margin\", legend_fontsize=4) \n",
    "#, save = \"Md_Som_reps_DevCell.png\")\n"
   ]
  },
  {
   "cell_type": "markdown",
   "id": "5ded1539",
   "metadata": {},
   "source": [
    "## Getting New Top Genes"
   ]
  },
  {
   "cell_type": "code",
   "execution_count": null,
   "id": "7e9386cc",
   "metadata": {},
   "outputs": [],
   "source": [
    "myslice = \"leiden_0.6\"\n",
    "\n",
    "# conduct the 3 main tests on cluster IDs\n",
    "sc.tl.rank_genes_groups(adata_som, \"leiden_0.6\", method='logreg', key_added=\"rank_genes_groups_logreg\")\n",
    "sc.tl.rank_genes_groups(adata_som, \"leiden_0.6\", method='t-test', key_added=\"rank_genes_groups_t-test\")\n",
    "sc.tl.rank_genes_groups(adata_som, \"leiden_0.6\", method='wilcoxon', key_added=\"rank_genes_groups_wilcoxon\")"
   ]
  },
  {
   "cell_type": "code",
   "execution_count": null,
   "id": "41445296",
   "metadata": {},
   "outputs": [],
   "source": [
    "# Write Cluster Markers\n",
    "\n",
    "myslice = \"leiden_0.6\"\n",
    "bonus = \"Opossum_SomCells_Comb_\"\n",
    "\n",
    "# mkdir for output if not exist already\n",
    "outdir = os.path.abspath(os.path.join(os.getcwd(), \"outs\", \"dge\"))\n",
    "if os.path.exists(outdir) == False:\n",
    "    os.makedirs(outdir)\n",
    "\n",
    "with pd.ExcelWriter(os.path.join(outdir, 'cluster_markers_' + bonus + myslice + '.xlsx')) as writer:\n",
    "    # Logistic regression marker identification\n",
    "    result = adata_som.uns['rank_genes_groups_logreg']\n",
    "    groups = result['names'].dtype.names\n",
    "    markers = pd.DataFrame({group + '_' + key[:6]: result[key][group] for group in groups for key in ['names', 'scores']}).head(100)\n",
    "    markers.to_excel(writer, sheet_name = \"markers_all_logreg\")\n",
    "    \n",
    "    # t-test marker identification\n",
    "    result = adata_som.uns['rank_genes_groups_t-test']\n",
    "    groups = result['names'].dtype.names\n",
    "    markers = pd.DataFrame({group + '_' + key[:6]: result[key][group] for group in groups for key in ['names', 'pvals_adj']}).head(100)\n",
    "    markers.to_excel(writer, sheet_name = \"markers_all_ttest\")\n",
    "    \n",
    "    # Wilcoxon marker identification\n",
    "    result = adata_som.uns['rank_genes_groups_wilcoxon']\n",
    "    groups = result['names'].dtype.names\n",
    "    markers = pd.DataFrame({group + '_' + key[:6]: result[key][group] for group in groups for key in ['names', 'pvals_adj']}).head(100)\n",
    "    markers.to_excel(writer, sheet_name = \"markers_all_wilcoxon\")"
   ]
  },
  {
   "cell_type": "code",
   "execution_count": null,
   "id": "85ba3194",
   "metadata": {},
   "outputs": [],
   "source": [
    "myslice = \"leiden_1.4\"\n",
    "\n",
    "# conduct the 3 main tests on cluster IDs\n",
    "sc.tl.rank_genes_groups(adata_germ, \"leiden_1.4\", method='logreg', key_added=\"rank_genes_groups_logreg\")\n",
    "sc.tl.rank_genes_groups(adata_germ, \"leiden_1.4\", method='t-test', key_added=\"rank_genes_groups_t-test\")\n",
    "sc.tl.rank_genes_groups(adata_germ, \"leiden_1.4\", method='wilcoxon', key_added=\"rank_genes_groups_wilcoxon\")"
   ]
  },
  {
   "cell_type": "code",
   "execution_count": null,
   "id": "3f2bcb06",
   "metadata": {},
   "outputs": [],
   "source": [
    "# Write Cluster Markers\n",
    "\n",
    "myslice = \"leiden_1.4\"\n",
    "bonus = \"Opossum_GermCells_ThreeRep_\"\n",
    "\n",
    "# mkdir for output if not exist already\n",
    "outdir = os.path.abspath(os.path.join(os.getcwd(), \"outs\", \"dge\"))\n",
    "if os.path.exists(outdir) == False:\n",
    "    os.makedirs(outdir)\n",
    "\n",
    "with pd.ExcelWriter(os.path.join(outdir, 'cluster_markers_' + bonus + myslice + '.xlsx')) as writer:\n",
    "    # Logistic regression marker identification\n",
    "    result = adata_germ.uns['rank_genes_groups_logreg']\n",
    "    groups = result['names'].dtype.names\n",
    "    markers = pd.DataFrame({group + '_' + key[:6]: result[key][group] for group in groups for key in ['names', 'scores']}).head(100)\n",
    "    markers.to_excel(writer, sheet_name = \"markers_all_logreg\")\n",
    "    \n",
    "    # t-test marker identification\n",
    "    result = adata_germ.uns['rank_genes_groups_t-test']\n",
    "    groups = result['names'].dtype.names\n",
    "    markers = pd.DataFrame({group + '_' + key[:6]: result[key][group] for group in groups for key in ['names', 'pvals_adj']}).head(100)\n",
    "    markers.to_excel(writer, sheet_name = \"markers_all_ttest\")\n",
    "    \n",
    "    # Wilcoxon marker identification\n",
    "    result = adata_germ.uns['rank_genes_groups_wilcoxon']\n",
    "    groups = result['names'].dtype.names\n",
    "    markers = pd.DataFrame({group + '_' + key[:6]: result[key][group] for group in groups for key in ['names', 'pvals_adj']}).head(100)\n",
    "    markers.to_excel(writer, sheet_name = \"markers_all_wilcoxon\")"
   ]
  },
  {
   "cell_type": "markdown",
   "id": "3188eef7",
   "metadata": {},
   "source": [
    "# Making PHATE plots with marker genes"
   ]
  },
  {
   "cell_type": "code",
   "execution_count": null,
   "id": "1c757349",
   "metadata": {},
   "outputs": [],
   "source": [
    "marker_genes_comb_germA_phate = ['DDX4 (ENSMODG00000019511)', 'LIN28A (ENSMODG00000014236)', 'ID4 (ENSMODG00000011307)', 'ID4 (ENSMODG00000011307)',\n",
    "                'SALL1 (ENSMODG00000013114)', 'SALL4 (ENSMODG00000016387)', 'ZRSR2 (ENSMODG00000017202)', 'ZRSR2 (ENSMODG00000017202)',\n",
    "                'GFRA1 (ENSMODG00000009606)', 'PIWIL4 (ENSMODG00000000217)', 'SOHLH1 (ENSMODG00000029683)', 'SOHLH1 (ENSMODG00000029683)', \n",
    "                'KIT (ENSMODG00000020671)', 'DMRT1 (ENSMODG00000003401)',  'UCHL1 (ENSMODG00000020568)', 'UCHL1 (ENSMODG00000020568)',\n",
    "                'STRA8 (ENSMODG00000014081)', 'PBX3 (ENSMODG00000019785)', 'ENSMODG00000037413 (ENSMODG00000037413)', 'ENSMODG00000037413 (ENSMODG00000037413)'] \n",
    "                           \n",
    "                           \n",
    "marker_genes_comb_germB_phate = ['TOP2B (ENSMODG00000014954)', 'RASSF1 (ENSMODG00000050482)', 'PIWIL1 (ENSMODG00000015619)', 'PIWIL1 (ENSMODG00000015619)',\n",
    "                'SYCP1 (ENSMODG00000004800)', 'SYCP2 (ENSMODG00000016617)', 'HORMAD1 (ENSMODG00000018807)', 'HORMAD1 (ENSMODG00000018807)',\n",
    "                'HORMAD2 (ENSMODG00000009221)', 'TANK (ENSMODG00000005310)', 'ADAD2 (ENSMODG00000004888)', 'ADAD2 (ENSMODG00000004888)', \n",
    "                'MEIOB (ENSMODG00000016106)', 'DMC1 (ENSMODG00000009655)', 'CCNB1 (ENSMODG00000019699)', 'CCNB1 (ENSMODG00000019699)'] \n",
    "                           \n",
    "marker_genes_comb_germC_phate = ['AURKA (ENSMODG00000016435)', 'ZPBP (ENSMODG00000009302)', 'ACOT9 (ENSMODG00000007768)', 'ACOT9 (ENSMODG00000007768)', \n",
    "                'ENSMODG00000001263 (ENSMODG00000001263)', 'TMEM144 (ENSMODG00000001956)', 'SPACA1 (ENSMODG00000018292)', 'SPACA1 (ENSMODG00000018292)', \n",
    "                'ENSMODG00000008215 (ENSMODG00000008215)', 'TNP1 (ENSMODG00000024866)', 'TSSK6 (ENSMODG00000023787)', 'TSSK6 (ENSMODG00000023787)',\n",
    "                'PRM1 (ENSMODG00000005135)', 'NRBP1 (ENSMODG00000015637)', 'GABBR2 (ENSMODG00000001896)']\n",
    "\n"
   ]
  },
  {
   "cell_type": "code",
   "execution_count": null,
   "id": "64705182",
   "metadata": {
    "scrolled": true
   },
   "outputs": [],
   "source": [
    "# plot marker genes\n",
    "fig, axes = plt.subplots(4,4, figsize=(4*4,4*4))\n",
    "for j, ax in zip(marker_genes_comb_germC_phate, axes.flatten()):\n",
    "    sc.pl.scatter(adata_germ, color=chinpy.pp.search(adata_germ, j, startswith=True), layers=\"sqrtcpm_magic\", title=j, legend_loc=\"on data\", show=False, ax=ax, basis=\"phate\")\n",
    "    \n",
    "fig.tight_layout()\n",
    "\n"
   ]
  },
  {
   "cell_type": "markdown",
   "id": "c1fbb2df",
   "metadata": {},
   "source": [
    "# Assigning Cluster Labels"
   ]
  },
  {
   "cell_type": "code",
   "execution_count": null,
   "id": "4e36c78e",
   "metadata": {},
   "outputs": [],
   "source": [
    "#coarse labels\n",
    "new_labels_germ = {\"0\": \"Bpermatocyte\",\n",
    "                \"1\": \"Spermatocyte\",\n",
    "                  ...\n",
    "                \"26\": \"ElongatingSpermatid\"}\n",
    "#'Spermatogonia', 'Spermatocyte', 'RoundSpermatid', 'ElongatingSpermatid',"
   ]
  },
  {
   "cell_type": "code",
   "execution_count": null,
   "id": "91810ca0",
   "metadata": {},
   "outputs": [],
   "source": [
    "#fine labels\n",
    "new_labels_germ_2 = {\"0\": \"Spermatocyte\",\n",
    "                \"1\": \"LateSpermatocyte\",\n",
    "                  ...\n",
    "                \"25\": \"LateSpermatid\",\n",
    "                \"26\": \"ElongatingSpermatid\"}\n",
    "\n",
    "#'Spermatogonia', 'Spermatocyte', 'LateSpermatocyte', 'RoundSpermatid', 'ElongatingSpermatid', 'ElongatedSpermatid'"
   ]
  },
  {
   "cell_type": "code",
   "execution_count": null,
   "id": "a15276eb",
   "metadata": {},
   "outputs": [],
   "source": [
    "adata_germ.obs['new_labels_germ'] = [new_labels_germ[i] for i in adata_germ.obs['leiden_1.4']]\n",
    "adata_germ.obs['new_labels_germ_2'] = [new_labels_germ_2[i] for i in adata_germ.obs['leiden_1.4']]"
   ]
  },
  {
   "cell_type": "code",
   "execution_count": null,
   "id": "a4567417",
   "metadata": {},
   "outputs": [],
   "source": [
    "sc.pl.umap(adata_germ, color=\"new_labels_germ\", palette = {\n",
    "         \"Spermatogonia\": \"palegreen\",\n",
    "        \"Spermatocyte\": \"darkgreen\",\n",
    "        \"RoundSpermatid\": \"steelblue\",\n",
    "        \"ElongatingSpermatid\": \"indigo\"\n",
    "    }) #, save = \"MdGermClusters.png\")"
   ]
  },
  {
   "cell_type": "code",
   "execution_count": null,
   "id": "fcaee843",
   "metadata": {},
   "outputs": [],
   "source": [
    "sc.pl.umap(adata_germ, color=\"new_labels_germ_2\", palette = {\n",
    "        \"Spermatogonia\": \"palegreen\",\n",
    "        \"Spermatocyte\": \"mediumseagreen\",\n",
    "        \"LateSpermatocyte\": \"darkgreen\",   \n",
    "        \"SpermatocyteToSpermatid\": \"mediumturquoise\",\n",
    "        \"RoundSpermatid\": \"skyblue\",\n",
    "        \"LateSpermatid\": \"steelblue\",    \n",
    "        \"ElongatingSpermatid\": \"mediumpurple\",\n",
    "        \"ElongatedSpermatid\": \"indigo\"\n",
    "    }) #, save = \"MdGermClusters_detailed_2.png\")\n"
   ]
  },
  {
   "cell_type": "code",
   "execution_count": null,
   "id": "122d23fb",
   "metadata": {},
   "outputs": [],
   "source": [
    "new_labels_som = {\"0\": \"JTelocyte\",\n",
    "                  ...\n",
    "                \"11\": \"Leydig\"}\n",
    "#'JTelocyte', 'KSertoli', 'Leydig', 'Macrophage', 'NEndothelial', 'OPeritubular'"
   ]
  },
  {
   "cell_type": "markdown",
   "id": "ba1ad6bb",
   "metadata": {},
   "source": [
    "# Cluster Cell Numbers"
   ]
  },
  {
   "cell_type": "code",
   "execution_count": null,
   "id": "3fd45968",
   "metadata": {},
   "outputs": [],
   "source": [
    "adata_germ"
   ]
  },
  {
   "cell_type": "code",
   "execution_count": null,
   "id": "8232b608",
   "metadata": {},
   "outputs": [],
   "source": [
    "sum(adata_germ.obs[\"new_labels_germ\"] == \"Spermatogonia\")"
   ]
  },
  {
   "cell_type": "code",
   "execution_count": null,
   "id": "afc0c4cd",
   "metadata": {},
   "outputs": [],
   "source": [
    "sum(adata_germ.obs[\"new_labels_germ\"] == \"Spermatocyte\")"
   ]
  },
  {
   "cell_type": "code",
   "execution_count": null,
   "id": "8ea9c0b3",
   "metadata": {},
   "outputs": [],
   "source": [
    "sum(adata_germ.obs[\"new_labels_germ\"] == \"RoundSpermatid\")"
   ]
  },
  {
   "cell_type": "code",
   "execution_count": null,
   "id": "2626b398",
   "metadata": {},
   "outputs": [],
   "source": [
    "sum(adata_germ.obs[\"new_labels_germ\"] == \"ElongatingSpermatid\")"
   ]
  },
  {
   "cell_type": "code",
   "execution_count": null,
   "id": "bc76786e",
   "metadata": {},
   "outputs": [],
   "source": [
    "sum(adata_germ.obs[\"new_labels_germ_2\"] == \"Spermatocyte\")"
   ]
  },
  {
   "cell_type": "code",
   "execution_count": null,
   "id": "50baa128",
   "metadata": {},
   "outputs": [],
   "source": [
    "sum(adata_germ.obs[\"new_labels_germ_2\"] == \"LateSpermatocyte\")"
   ]
  },
  {
   "cell_type": "code",
   "execution_count": null,
   "id": "495d10de",
   "metadata": {},
   "outputs": [],
   "source": [
    "sum(adata_germ.obs[\"new_labels_germ_2\"] == \"RoundSpermatid\")"
   ]
  },
  {
   "cell_type": "code",
   "execution_count": null,
   "id": "8142ad28",
   "metadata": {},
   "outputs": [],
   "source": [
    "sum(adata_germ.obs[\"new_labels_germ_2\"] == \"LateSpermatid\")"
   ]
  },
  {
   "cell_type": "code",
   "execution_count": null,
   "id": "eb28a102",
   "metadata": {},
   "outputs": [],
   "source": [
    "sum(adata_germ.obs[\"new_labels_germ_2\"] == \"ElongatingSpermatid\")"
   ]
  },
  {
   "cell_type": "code",
   "execution_count": null,
   "id": "7963c46e",
   "metadata": {},
   "outputs": [],
   "source": [
    "sum(adata_germ.obs[\"new_labels_germ_2\"] == \"ElongatedSpermatid\")"
   ]
  },
  {
   "cell_type": "code",
   "execution_count": null,
   "id": "0f954c0e",
   "metadata": {},
   "outputs": [],
   "source": [
    "adata_som"
   ]
  },
  {
   "cell_type": "markdown",
   "id": "3958c594",
   "metadata": {},
   "source": [
    "# Cluster Markers for labeled clusters"
   ]
  },
  {
   "cell_type": "code",
   "execution_count": null,
   "id": "ad9d8736",
   "metadata": {},
   "outputs": [],
   "source": [
    "myslice = \"new_labels_germ\"\n",
    "\n",
    "# conduct the 3 main tests on cluster IDs\n",
    "sc.tl.rank_genes_groups(adata_germ, myslice, method='logreg', key_added=\"rank_genes_groups_logreg\")\n",
    "sc.tl.rank_genes_groups(adata_germ, myslice, method='t-test', key_added=\"rank_genes_groups_t-test\")\n",
    "sc.tl.rank_genes_groups(adata_germ, myslice, method='wilcoxon', key_added=\"rank_genes_groups_wilcoxon\")"
   ]
  },
  {
   "cell_type": "code",
   "execution_count": null,
   "id": "79a266e0",
   "metadata": {},
   "outputs": [],
   "source": [
    "# Write Cluster Markers\n",
    "\n",
    "myslice = \"new_labels_germ\"\n",
    "bonus = \"Md_GermCells_ThreeReps_coarse_\"\n",
    "\n",
    "# mkdir for output if not exist already\n",
    "outdir = os.path.abspath(os.path.join(os.getcwd(), \"outs\", \"dge\"))\n",
    "if os.path.exists(outdir) == False:\n",
    "    os.makedirs(outdir)\n",
    "\n",
    "with pd.ExcelWriter(os.path.join(outdir, 'cluster_markers_' + bonus + myslice + '.xlsx')) as writer:  \n",
    "    # Wilcoxon marker identification\n",
    "    result = adata_germ.uns['rank_genes_groups_wilcoxon']\n",
    "    groups = result['names'].dtype.names\n",
    "    markers = pd.DataFrame({group + '_' + key[:6]: result[key][group] for group in groups for key in ['names', 'pvals_adj']}).head(100)\n",
    "    markers.to_excel(writer, sheet_name = \"markers_all_wilcoxon\")"
   ]
  },
  {
   "cell_type": "code",
   "execution_count": null,
   "id": "e239bf2f",
   "metadata": {},
   "outputs": [],
   "source": [
    "# Write Cluster Markers\n",
    "\n",
    "myslice = \"new_labels_germ\"\n",
    "bonus = \"Md_GermCells_ThreeReps_coarse_Top200_\"\n",
    "\n",
    "# mkdir for output if not exist already\n",
    "outdir = os.path.abspath(os.path.join(os.getcwd(), \"outs\", \"dge\"))\n",
    "if os.path.exists(outdir) == False:\n",
    "    os.makedirs(outdir)\n",
    "\n",
    "with pd.ExcelWriter(os.path.join(outdir, 'cluster_markers_' + bonus + myslice + '.xlsx')) as writer:  \n",
    "    # Wilcoxon marker identification\n",
    "    result = adata_germ.uns['rank_genes_groups_wilcoxon']\n",
    "    groups = result['names'].dtype.names\n",
    "    markers = pd.DataFrame({group + '_' + key[:6]: result[key][group] for group in groups for key in ['names', 'pvals_adj']}).head(200)\n",
    "    markers.to_excel(writer, sheet_name = \"markers_all_wilcoxon\")"
   ]
  },
  {
   "cell_type": "code",
   "execution_count": null,
   "id": "c0396022",
   "metadata": {},
   "outputs": [],
   "source": [
    "myslice = \"new_labels_germ_2\"\n",
    "\n",
    "# conduct the 3 main tests on cluster IDs\n",
    "sc.tl.rank_genes_groups(adata_germ, myslice, method='logreg', key_added=\"rank_genes_groups_logreg\")\n",
    "sc.tl.rank_genes_groups(adata_germ, myslice, method='t-test', key_added=\"rank_genes_groups_t-test\")\n",
    "sc.tl.rank_genes_groups(adata_germ, myslice, method='wilcoxon', key_added=\"rank_genes_groups_wilcoxon\")"
   ]
  },
  {
   "cell_type": "code",
   "execution_count": null,
   "id": "de6f1ad3",
   "metadata": {},
   "outputs": [],
   "source": [
    "# Write Cluster Markers\n",
    "\n",
    "myslice = \"new_labels_germ_2\"\n",
    "bonus = \"Md_GermCells_ThreeReps_fine_\"\n",
    "\n",
    "# mkdir for output if not exist already\n",
    "outdir = os.path.abspath(os.path.join(os.getcwd(), \"outs\", \"dge\"))\n",
    "if os.path.exists(outdir) == False:\n",
    "    os.makedirs(outdir)\n",
    "\n",
    "with pd.ExcelWriter(os.path.join(outdir, 'cluster_markers_' + bonus + myslice + '.xlsx')) as writer:  \n",
    "    # Wilcoxon marker identification\n",
    "    result = adata_germ.uns['rank_genes_groups_wilcoxon']\n",
    "    groups = result['names'].dtype.names\n",
    "    markers = pd.DataFrame({group + '_' + key[:6]: result[key][group] for group in groups for key in ['names', 'pvals_adj']}).head(100)\n",
    "    markers.to_excel(writer, sheet_name = \"markers_all_wilcoxon\")"
   ]
  },
  {
   "cell_type": "code",
   "execution_count": null,
   "id": "5a4ae7d3",
   "metadata": {},
   "outputs": [],
   "source": [
    "# Write Cluster Markers\n",
    "\n",
    "myslice = \"new_labels_germ_2\"\n",
    "bonus = \"Md_GermCells_ThreeReps_fine_Top200\"\n",
    "\n",
    "# mkdir for output if not exist already\n",
    "outdir = os.path.abspath(os.path.join(os.getcwd(), \"outs\", \"dge\"))\n",
    "if os.path.exists(outdir) == False:\n",
    "    os.makedirs(outdir)\n",
    "\n",
    "with pd.ExcelWriter(os.path.join(outdir, 'cluster_markers_' + bonus + myslice + '.xlsx')) as writer:  \n",
    "    # Wilcoxon marker identification\n",
    "    result = adata_germ.uns['rank_genes_groups_wilcoxon']\n",
    "    groups = result['names'].dtype.names\n",
    "    markers = pd.DataFrame({group + '_' + key[:6]: result[key][group] for group in groups for key in ['names', 'pvals_adj']}).head(200)\n",
    "    markers.to_excel(writer, sheet_name = \"markers_all_wilcoxon\")"
   ]
  },
  {
   "cell_type": "code",
   "execution_count": null,
   "id": "2d7e17bb",
   "metadata": {},
   "outputs": [],
   "source": [
    "myslice = \"new_labels_som\"\n",
    "\n",
    "# conduct the 3 main tests on cluster IDs\n",
    "sc.tl.rank_genes_groups(adata_som, myslice, method='logreg', key_added=\"rank_genes_groups_logreg\")\n",
    "sc.tl.rank_genes_groups(adata_som, myslice, method='t-test', key_added=\"rank_genes_groups_t-test\")\n",
    "sc.tl.rank_genes_groups(adata_som, myslice, method='wilcoxon', key_added=\"rank_genes_groups_wilcoxon\")"
   ]
  },
  {
   "cell_type": "code",
   "execution_count": null,
   "id": "ef3d70f9",
   "metadata": {},
   "outputs": [],
   "source": [
    "# Write Cluster Markers\n",
    "\n",
    "myslice = \"new_labels_som\"\n",
    "bonus = \"Md_SomCells_ThreeReps_\"\n",
    "\n",
    "# mkdir for output if not exist already\n",
    "outdir = os.path.abspath(os.path.join(os.getcwd(), \"outs\", \"dge\"))\n",
    "if os.path.exists(outdir) == False:\n",
    "    os.makedirs(outdir)\n",
    "\n",
    "with pd.ExcelWriter(os.path.join(outdir, 'cluster_markers_' + bonus + myslice + '.xlsx')) as writer:  \n",
    "    # Wilcoxon marker identification\n",
    "    result = adata_som.uns['rank_genes_groups_wilcoxon']\n",
    "    groups = result['names'].dtype.names\n",
    "    markers = pd.DataFrame({group + '_' + key[:6]: result[key][group] for group in groups for key in ['names', 'pvals_adj']}).head(100)\n",
    "    markers.to_excel(writer, sheet_name = \"markers_all_wilcoxon\")"
   ]
  },
  {
   "cell_type": "markdown",
   "id": "6b8ad42c",
   "metadata": {},
   "source": [
    "# Aside for saving and reloading data"
   ]
  },
  {
   "cell_type": "code",
   "execution_count": null,
   "id": "8b6f0f71",
   "metadata": {},
   "outputs": [],
   "source": [
    "#save germ cell subset as file\n",
    "adata_germ.write_h5ad(\"Opossum_germcells_ThreeRep.h5ad\")"
   ]
  },
  {
   "cell_type": "code",
   "execution_count": null,
   "id": "206a79f4",
   "metadata": {},
   "outputs": [],
   "source": [
    "adata_som.write_h5ad(\"Opossum_Somcells_ThreeRep.h5ad\")"
   ]
  },
  {
   "cell_type": "code",
   "execution_count": null,
   "id": "155d89b0",
   "metadata": {},
   "outputs": [],
   "source": [
    "adata_sub.write_h5ad(\"Opossum_Subcells_ThreeRep.h5ad\")"
   ]
  },
  {
   "cell_type": "code",
   "execution_count": null,
   "id": "61b2f498",
   "metadata": {},
   "outputs": [],
   "source": [
    "# read h5ad back if needed\n",
    "adata_germ = anndata.read_h5ad(\"path/to/Opossum_germcells_ThreeRep.h5ad\")"
   ]
  },
  {
   "cell_type": "code",
   "execution_count": null,
   "id": "bc928b85",
   "metadata": {},
   "outputs": [],
   "source": [
    "adata_som = anndata.read_h5ad(\"path/to/Opossum_Somcells_ThreeRep.h5ad\")"
   ]
  },
  {
   "cell_type": "markdown",
   "id": "d570d131",
   "metadata": {},
   "source": [
    "# Dot Plots"
   ]
  },
  {
   "cell_type": "code",
   "execution_count": null,
   "id": "46b88816",
   "metadata": {},
   "outputs": [],
   "source": [
    "#Dotplot for marker genes\n",
    "sc.pl.dotplot(adata_germ, marker_genes_comb_germ, groupby='leiden_1.4', swap_axes=True, cmap='Blues')\n",
    "\n",
    "#, save = \"Md_GermCell_Top5_celltype_newspermatocyte.png\""
   ]
  },
  {
   "cell_type": "code",
   "execution_count": null,
   "id": "b9e3b30b",
   "metadata": {},
   "outputs": [],
   "source": [
    "sc.pl.dotplot(adata_germ, Top5_Gene_list, groupby='new_labels_germ', swap_axes=True, standard_scale = 'var', cmap='BrBG')\n",
    "sc.pl.dotplot(adata_germ, Top5_Gene_list, groupby='new_labels_germ', swap_axes=True, standard_scale = 'var', cmap='Blues', save = \"Md_GermCell_Top5_ThreeReps_dot_Blues_scaled.png\")\n",
    "             \n",
    "#, save = \"Md_GermCell_Top5_ThreeReps_dot_Blues_scaled.png\"\n",
    "\n",
    "#, save = \"Md_GermCell_Top5_notrans_dot_BrBG_scaled.png\"\n",
    "\n"
   ]
  },
  {
   "cell_type": "code",
   "execution_count": null,
   "id": "6aecdfee",
   "metadata": {},
   "outputs": [],
   "source": [
    "sc.pl.heatmap(adata_germ, clust_genes_germ_list, groupby='new_labels_germ', cmap='Blues', standard_scale='obs', swap_axes=True)\n",
    "#, save = \"Md_Germ_ThreeReps_Heatmap_scaled_blues.png\""
   ]
  },
  {
   "cell_type": "markdown",
   "id": "34ead0b2",
   "metadata": {},
   "source": [
    "# Pseudobulk\n"
   ]
  },
  {
   "cell_type": "code",
   "execution_count": null,
   "id": "0f74c291",
   "metadata": {},
   "outputs": [],
   "source": [
    "import decoupler as dc\n",
    "# Import DESeq2\n",
    "from pydeseq2.dds import DeseqDataSet\n",
    "from pydeseq2.ds import DeseqStats\n"
   ]
  },
  {
   "cell_type": "code",
   "execution_count": null,
   "id": "23482ee0",
   "metadata": {},
   "outputs": [],
   "source": [
    "adata_germ_2 = adata_germ"
   ]
  },
  {
   "cell_type": "code",
   "execution_count": null,
   "id": "62a731f9",
   "metadata": {},
   "outputs": [],
   "source": [
    "adata_germ.layers['counts']"
   ]
  },
  {
   "cell_type": "code",
   "execution_count": null,
   "id": "f3455d05",
   "metadata": {},
   "outputs": [],
   "source": [
    "adata_germ_2.X = np.round(adata_germ_2.X)\n",
    "adata_germ_2.layers['counts'] = adata_germ_2.X"
   ]
  },
  {
   "cell_type": "code",
   "execution_count": null,
   "id": "0d447e1c",
   "metadata": {},
   "outputs": [],
   "source": [
    "# Normalize and log-transform\n",
    "sc.pp.normalize_total(adata_germ_2, target_sum=1e4)\n",
    "\n",
    "adata_germ_2.layers['normalized'] = adata_germ_2.X"
   ]
  },
  {
   "cell_type": "code",
   "execution_count": null,
   "id": "d0e60eb7",
   "metadata": {},
   "outputs": [],
   "source": [
    "# Get pseudo-bulk profile\n",
    "pdata = dc.get_pseudobulk(adata_germ,\n",
    "                          sample_col='sample_labels',\n",
    "                          groups_col='new_labels_germ',\n",
    "                          mode='sum',\n",
    "                          layer = 'counts',\n",
    "                          min_cells=10,\n",
    "                          min_counts=1000\n",
    "                         )\n",
    "pdata"
   ]
  },
  {
   "cell_type": "code",
   "execution_count": null,
   "id": "6425c871",
   "metadata": {},
   "outputs": [],
   "source": [
    "adata_germ.layers"
   ]
  },
  {
   "cell_type": "code",
   "execution_count": null,
   "id": "32fbf6cf",
   "metadata": {},
   "outputs": [],
   "source": [
    "# Get pseudo-bulk profile\n",
    "pdata2 = dc.get_pseudobulk(adata_germ_2,\n",
    "                          sample_col='sample_labels',\n",
    "                          groups_col='new_labels_germ_2',\n",
    "                          mode='sum',\n",
    "                          layer = 'counts',\n",
    "                          min_cells=10,\n",
    "                          min_counts=1000\n",
    "                         )\n",
    "pdata2"
   ]
  },
  {
   "cell_type": "code",
   "execution_count": null,
   "id": "97c63bfd",
   "metadata": {},
   "outputs": [],
   "source": [
    "pdata.obs['psbulk_counts']"
   ]
  },
  {
   "cell_type": "code",
   "execution_count": null,
   "id": "f5d5090d",
   "metadata": {},
   "outputs": [],
   "source": [
    "pdata2.obs['psbulk_counts']"
   ]
  },
  {
   "cell_type": "code",
   "execution_count": null,
   "id": "ac686024",
   "metadata": {},
   "outputs": [],
   "source": [
    "dc.plot_psbulk_samples(pdata, groupby=['sample_labels', 'new_labels_germ'], figsize=(11, 3))"
   ]
  },
  {
   "cell_type": "code",
   "execution_count": null,
   "id": "e80c3d24",
   "metadata": {},
   "outputs": [],
   "source": [
    "dc.plot_psbulk_samples(pdata2, groupby=['sample_labels', 'new_labels_germ_2'], figsize=(11, 3))"
   ]
  },
  {
   "cell_type": "code",
   "execution_count": null,
   "id": "19fe4713",
   "metadata": {},
   "outputs": [],
   "source": [
    "dc.plot_filter_by_expr(pdata, group='new_labels_germ', min_count=10, min_total_count=15)"
   ]
  },
  {
   "cell_type": "code",
   "execution_count": null,
   "id": "f3de8f24",
   "metadata": {},
   "outputs": [],
   "source": [
    "dc.plot_filter_by_expr(pdata2, group='new_labels_germ_2', min_count=10, min_total_count=15)"
   ]
  },
  {
   "cell_type": "code",
   "execution_count": null,
   "id": "44fea4be",
   "metadata": {},
   "outputs": [],
   "source": [
    "pdata.X"
   ]
  },
  {
   "cell_type": "code",
   "execution_count": null,
   "id": "b8218ed9",
   "metadata": {},
   "outputs": [],
   "source": [
    "pdata.X = np.round(pdata.X)"
   ]
  },
  {
   "cell_type": "code",
   "execution_count": null,
   "id": "4a07dc5d",
   "metadata": {},
   "outputs": [],
   "source": [
    "pdata2.X = np.round(pdata2.X)"
   ]
  },
  {
   "cell_type": "code",
   "execution_count": null,
   "id": "f08e2b90",
   "metadata": {},
   "outputs": [],
   "source": [
    "# Build DESeq2 object\n",
    "dds = DeseqDataSet(\n",
    "    adata=pdata,\n",
    "    design_factors='new_labels_germ',\n",
    "    refit_cooks=True,\n",
    "    n_cpus=8,\n",
    ")\n",
    "\n",
    "dds2 = DeseqDataSet(\n",
    "    adata=pdata2,\n",
    "    design_factors='new_labels_germ_2',\n",
    "    refit_cooks=True,\n",
    "    n_cpus=8,\n",
    ")\n"
   ]
  },
  {
   "cell_type": "code",
   "execution_count": null,
   "id": "f50c91be",
   "metadata": {},
   "outputs": [],
   "source": [
    "# Compute LFCs\n",
    "dds.deseq2()"
   ]
  },
  {
   "cell_type": "code",
   "execution_count": null,
   "id": "8b178f04",
   "metadata": {},
   "outputs": [],
   "source": [
    "dds2.deseq2()"
   ]
  },
  {
   "cell_type": "code",
   "execution_count": null,
   "id": "9b79d2e0",
   "metadata": {},
   "outputs": [],
   "source": [
    "stat_res = DeseqStats(dds, contrast=[\"new_labels_germ\", 'Spermatogonia', 'Spermatocyte'], n_cpus=8)\n",
    "stat_res2 = DeseqStats(dds2, contrast=[\"new_labels_germ_2\", 'Spermatogonia', 'Spermatocyte'], n_cpus=8)"
   ]
  },
  {
   "cell_type": "code",
   "execution_count": null,
   "id": "49dbb908",
   "metadata": {},
   "outputs": [],
   "source": [
    "stat_res.summary()\n",
    "stat_res2.summary()"
   ]
  },
  {
   "cell_type": "markdown",
   "id": "37ef7214",
   "metadata": {},
   "source": [
    "# Making a table with means"
   ]
  },
  {
   "cell_type": "code",
   "execution_count": null,
   "id": "a4885b4a",
   "metadata": {},
   "outputs": [],
   "source": [
    "res = pd.DataFrame(columns= adata_germ.var_names, index=adata_germ.obs['new_labels_germ'].cat.categories)                                                                                                 \n",
    "\n",
    "for clust in adata_germ.obs.new_labels_germ.cat.categories: \n",
    "    res.loc[clust] = adata_germ[adata_germ.obs['new_labels_germ'].isin([clust]),:].X.mean(0)\n",
    "    \n",
    "\n",
    "res2 = pd.DataFrame(columns= adata_germ.var_names, index=adata_germ.obs['new_labels_germ_2'].cat.categories)                                                                                                 \n",
    "\n",
    "for clust in adata_germ.obs.new_labels_germ_2.cat.categories: \n",
    "    res2.loc[clust] = adata_germ[adata_germ.obs['new_labels_germ_2'].isin([clust]),:].X.mean(0)\n",
    "    "
   ]
  },
  {
   "cell_type": "code",
   "execution_count": null,
   "id": "2987fc2a",
   "metadata": {},
   "outputs": [],
   "source": [
    "adata_germ.obs['new_labels_germ_2'].cat.categories"
   ]
  },
  {
   "cell_type": "code",
   "execution_count": null,
   "id": "b002dc43",
   "metadata": {},
   "outputs": [],
   "source": [
    "df = res.transpose()\n",
    "df2 = res2.transpose()"
   ]
  },
  {
   "cell_type": "code",
   "execution_count": null,
   "id": "969e15b4",
   "metadata": {},
   "outputs": [],
   "source": [
    "df.to_excel(excel_writer = \"Md_cluster_averages_ThreeReps.xlsx\")\n",
    "df2.to_excel(excel_writer = \"Md_cluster_averages_ThreeReps_fine.xlsx\") "
   ]
  },
  {
   "cell_type": "code",
   "execution_count": null,
   "id": "58997d90",
   "metadata": {},
   "outputs": [],
   "source": [
    "res_p = pd.DataFrame(columns= pdata.var_names, index=adata_germ.obs['new_labels_germ'].cat.categories)                                                                                                 \n",
    "\n",
    "for clust in adata_germ.obs.new_labels_germ.cat.categories: \n",
    "    res_p.loc[clust] = pdata[pdata.obs['new_labels_germ'].isin([clust]),:].X.mean(0)\n",
    "    \n",
    "\n",
    "res_p2 = pd.DataFrame(columns= pdata2.var_names, index=adata_germ.obs['new_labels_germ_2'].cat.categories)                                                                                                 \n",
    "\n",
    "for clust in adata_germ.obs.new_labels_germ_2.cat.categories: \n",
    "    res_p2.loc[clust] = pdata2[pdata2.obs['new_labels_germ_2'].isin([clust]),:].X.mean(0)"
   ]
  },
  {
   "cell_type": "code",
   "execution_count": null,
   "id": "c9e2c2a3",
   "metadata": {},
   "outputs": [],
   "source": [
    "df_p = res_p.transpose()\n",
    "df_p2 = res_p2.transpose()"
   ]
  },
  {
   "cell_type": "code",
   "execution_count": null,
   "id": "c1e0bf91",
   "metadata": {},
   "outputs": [],
   "source": [
    "df_p.to_excel(excel_writer = \"Md_pdata_ThreeReps_cluster_averages.xlsx\")\n",
    "df_p2.to_excel(excel_writer = \"Md_pdata2_ThreeReps_cluster_averages.xlsx\")  "
   ]
  },
  {
   "cell_type": "markdown",
   "id": "4bbc979b",
   "metadata": {},
   "source": [
    "# Species Differences Validation"
   ]
  },
  {
   "cell_type": "code",
   "execution_count": null,
   "id": "2168175a",
   "metadata": {},
   "outputs": [],
   "source": [
    "chinpy.pp.search(adata_germ, 'ENSMODG00000000396', startswith=True)"
   ]
  },
  {
   "cell_type": "code",
   "execution_count": null,
   "id": "98d53bc5",
   "metadata": {},
   "outputs": [],
   "source": [
    "SpecDiff = ['HORMAD1 (ENSMODG00000018807)', 'PIWIL2 (ENSMODG00000009482)', 'HEXB (ENSMODG00000001872)', 'CRABP1 (ENSMODG00000011710)', 'COL3A1 (ENSMODG00000010811)']\n"
   ]
  },
  {
   "cell_type": "code",
   "execution_count": null,
   "id": "ec7e9314",
   "metadata": {
    "scrolled": true
   },
   "outputs": [],
   "source": [
    "# plot marker genes\n",
    "\n",
    "fig, axes = plt.subplots(2,3, figsize=(4*3,4*2))\n",
    "for j, ax in zip(SpecDiff, axes.flatten()):\n",
    "    sc.pl.umap(adata_germ, color=chinpy.pp.search(adata_germ, j, startswith=True), layer=\"sqrtcpm_magic\", title=j, legend_loc=\"on data\", show=False, ax=ax)\n",
    "plt.savefig(\"Md_GermCells_SpeciesDiff_ThreeReps.png\")      \n",
    "fig.tight_layout()"
   ]
  },
  {
   "cell_type": "code",
   "execution_count": null,
   "id": "0e23d798",
   "metadata": {
    "scrolled": false
   },
   "outputs": [],
   "source": [
    "#violin plots for germ cell marker genes with coarse label clusters\n",
    "sc.pl.violin(adata_germ, ['CRABP1 (ENSMODG00000011710)', 'SOHLH1 (ENSMODG00000029683)', \n",
    "                'KIT (ENSMODG00000020671)', 'DMRT1 (ENSMODG00000003401)',  'UCHL1 (ENSMODG00000020568)'] , groupby='new_labels_germ', layer=\"sqrtcpm_magic\")\n",
    "\n",
    "sc.pl.violin(adata_germ, ['STRA8 (ENSMODG00000014081)', 'PIWIL1 (ENSMODG00000015619)', 'SYCP1 (ENSMODG00000004800)', 'SYCP2 (ENSMODG00000016617)', 'CCNA1 (ENSMODG00000009993)'] , groupby='new_labels_germ', layer=\"sqrtcpm_magic\")\n",
    "\n",
    "sc.pl.violin(adata_germ, ['AURKA (ENSMODG00000016435)', \n",
    "                'ZPBP (ENSMODG00000009302)', 'TMEM144 (ENSMODG00000001956)', \n",
    "                'SPACA1 (ENSMODG00000018292)'] , groupby='new_labels_germ', layer=\"sqrtcpm_magic\")\n",
    "    \n",
    "sc.pl.violin(adata_germ, ['TNP1 (ENSMODG00000024866)', 'TSSK6 (ENSMODG00000023787)',  \n",
    "                'PRM1 (ENSMODG00000005135)', 'PIWIL2 (ENSMODG00000009482)'] , groupby='new_labels_germ', layer=\"sqrtcpm_magic\")\n"
   ]
  },
  {
   "cell_type": "code",
   "execution_count": null,
   "id": "05e530f7",
   "metadata": {},
   "outputs": [],
   "source": [
    "# plot germ cell marker genes with coarse cluster labels\n",
    "fig, axes = plt.subplots(5,3, figsize=(4*3,4*5))\n",
    "for j, ax in zip(marker_genes_germ, axes.flatten()):\n",
    "    sc.pl.umap(adata_germ, color=chinpy.pp.search(adata_germ, j, startswith=True), layer=\"sqrtcpm_magic\", title=j, legend_loc=\"on data\", show=False, ax=ax)     \n",
    "fig.tight_layout()"
   ]
  },
  {
   "cell_type": "code",
   "execution_count": null,
   "id": "e92a800e",
   "metadata": {},
   "outputs": [],
   "source": [
    "#violin plots for somatic marker genes \n",
    "sc.pl.violin(adata_som, ['DCN (ENSMODG00000009654)', 'ENSMODG00000020670 (ENSMODG00000020670)', 'TAGLN (ENSMODG00000013744)',\n",
    "                         'ACTA2 (ENSMODG00000007394)'] , groupby='new_labels_som', layer=\"sqrtcpm_magic\") #, save = \"Md_Som_DevCell_Violin1.png\")\n",
    "\n",
    "\n",
    "sc.pl.violin(adata_som, ['RAMP2 (ENSMODG00000015038)', 'PECAM1 (ENSMODG00000025673)', 'CD74 (ENSMODG00000028756)', \n",
    "                         'TYROBP (ENSMODG00000014057)'] , groupby='new_labels_som', layer=\"sqrtcpm_magic\") #, save = \"Md_Som_DevCell_Violin2.png\")\n",
    "\n",
    "sc.pl.violin(adata_som, ['CLU (ENSMODG00000015960)', 'SOX9 (ENSMODG00000006526)'] , groupby='new_labels_som', layer=\"sqrtcpm_magic\") #, save = \"Md_Som_DevCell_Violin3.png\")\n",
    "\n",
    "sc.pl.violin(adata_som, ['FSHR (ENSMODG00000001267)', 'STAR (ENSMODG00000010748)', 'CYP11A1 (ENSMODG00000009689)', \n",
    "                         'CYP17A1 (ENSMODG00000011205)'] , groupby='new_labels_som', layer=\"sqrtcpm_magic\") #, save = \"Md_Som_DevCell_Violin4.png\")\n"
   ]
  }
 ],
 "metadata": {
  "kernelspec": {
   "display_name": "Python 3 (ipykernel)",
   "language": "python",
   "name": "python3"
  },
  "language_info": {
   "codemirror_mode": {
    "name": "ipython",
    "version": 3
   },
   "file_extension": ".py",
   "mimetype": "text/x-python",
   "name": "python",
   "nbconvert_exporter": "python",
   "pygments_lexer": "ipython3",
   "version": "3.9.12"
  }
 },
 "nbformat": 4,
 "nbformat_minor": 5
}
